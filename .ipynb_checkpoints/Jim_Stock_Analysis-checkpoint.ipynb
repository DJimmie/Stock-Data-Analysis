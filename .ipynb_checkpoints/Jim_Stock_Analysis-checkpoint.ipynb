{
 "cells": [
  {
   "cell_type": "code",
   "execution_count": 14,
   "metadata": {
    "collapsed": true
   },
   "outputs": [],
   "source": [
    "import pandas as pd\n",
    "import pandas_datareader\n",
    "# import pandas_datareader as pdr\n",
    "import pandas_datareader.data as web\n",
    "# from pandas_datareader import data, wb\n",
    "import numpy as np\n",
    "import matplotlib.pyplot as plt\n",
    "#import pandas.DateOffset\n",
    "import datetime as dt\n",
    "import time\n",
    "import csv"
   ]
  },
  {
   "cell_type": "code",
   "execution_count": 15,
   "metadata": {},
   "outputs": [
    {
     "data": {
      "text/plain": [
       "'0.7.0'"
      ]
     },
     "execution_count": 15,
     "metadata": {},
     "output_type": "execute_result"
    }
   ],
   "source": [
    "pandas_datareader.__version__"
   ]
  },
  {
   "cell_type": "code",
   "execution_count": 16,
   "metadata": {},
   "outputs": [
    {
     "data": {
      "text/plain": [
       "'0.24.0'"
      ]
     },
     "execution_count": 16,
     "metadata": {},
     "output_type": "execute_result"
    }
   ],
   "source": [
    "pd.__version__"
   ]
  },
  {
   "cell_type": "code",
   "execution_count": 17,
   "metadata": {
    "collapsed": true
   },
   "outputs": [],
   "source": [
    "def get_stocks (ticker, startdate,enddate,data_source):\n",
    "    #data sources--------------------------------------------------------------\n",
    "    if (data_source=='local'):\n",
    "        location=r'C:\\Users\\Crystal\\Desktop\\datasets\\sandp500\\individual_stocks_5yr\\{}_data.csv'.format(ticker.upper())\n",
    "        the_data=pd.read_csv(location,parse_dates=True,index_col='Date')\n",
    "        the_data.to_csv(r'C:\\Users\\Crystal\\Desktop\\datasets\\stocks\\{}_dataset.csv'.format(ticker.upper()))\n",
    "    elif (data_source=='remote'):\n",
    "        #the_data=pdr.get_data_yahoo(ticker.upper(),retry_count=3,start=startdate,end=enddate)\n",
    "#         the_data=web.DataReader(ticker.upper(),'yahoo',retry_count=3,start=startdate,end=enddate)\n",
    "#         the_data=web.DataReader(ticker.upper(),'google',retry_count=3,start=startdate,end=enddate)\n",
    "#         the_data=web.DataReader(ticker.upper(),'morningstar',retry_count=3,start=startdate,end=enddate)\n",
    "        the_data=web.DataReader(ticker.upper(),'iex',retry_count=3,start=startdate,end=enddate)\n",
    "\n",
    "        the_data.to_csv(r'C:\\Users\\Crystal\\Desktop\\datasets\\stocks\\{}_dataset.csv'.format(ticker.upper()))\n",
    "    \n",
    "    #print (ticker.upper())\n",
    "    #print(the_data)\n",
    "    #return (the_data)\n",
    "        \n",
    "        \n",
    "        "
   ]
  },
  {
   "cell_type": "code",
   "execution_count": 18,
   "metadata": {
    "collapsed": true
   },
   "outputs": [],
   "source": [
    "def calculate_indicators (ticker, ticker_data):\n",
    "    #print('I have the {} data.'.format(ticker))\n",
    "    #print(ticker_data.head())\n",
    "    \n",
    "    ticker_data['10ma']=ticker_data['Close'].rolling(window=10).mean()\n",
    "    ticker_data.dropna(inplace=True)\n",
    "    ticker_data['20ma']=ticker_data['Close'].rolling(window=20).mean()\n",
    "    ticker_data['+2sigma']=ticker_data['20ma']+((ticker_data['Close'].rolling(window=20).std())*2)\n",
    "    ticker_data['-2sigma']=ticker_data['20ma']-((ticker_data['Close'].rolling(window=20).std())*2)\n",
    "    ticker_data['Vol_mavg']=ticker_data['Volume'].rolling(window=20).mean()\n",
    "    ticker_data['Daily_Return']=((ticker_data.Close-ticker_data.Close.shift(1))/ticker_data.Close.shift(1))*100\n",
    "    ticker_data['Daily_Return_ma']=ticker_data['Daily_Return'].rolling(window=10).mean()\n",
    "    ticker_data.dropna(inplace=True)\n",
    "    \n",
    "    ticker_data.sort_index(ascending=False,inplace=True)\n",
    "    \n",
    "    #print(ticker_data.head())\n",
    "    #print(ticker_data.info())\n",
    "    return ticker_data"
   ]
  },
  {
   "cell_type": "code",
   "execution_count": 19,
   "metadata": {
    "collapsed": true
   },
   "outputs": [],
   "source": [
    "    def plot_the_stock(ticker,ticker_data,startdate,enddate):\n",
    "        #print('Ready to plot')\n",
    "        \n",
    "        ticker_data.sort_index(ascending=True,inplace=True)\n",
    "        \n",
    "        fig=plt.figure(figsize=(15,15))\n",
    "        fig.suptitle('{} Plot'.format(ticker))\n",
    " \n",
    "        ax=fig.add_subplot(311)\n",
    "        #ax1=fig.add_subplot(412)\n",
    "        ax2=fig.add_subplot(312)\n",
    "        ax3=fig.add_subplot(313)\n",
    "\n",
    "        ax.set_xlabel('Date')\n",
    "        ax.set_ylabel('Price')\n",
    " \n",
    "        ax.set_title(label='{} Stock Data'.format(ticker),loc='left')\n",
    "    \n",
    "        ax.plot(ticker_data[startdate:enddate][['Close','10ma','20ma']])\n",
    "        ax.plot(ticker_data[startdate:enddate][['+2sigma','-2sigma']],color='black')\n",
    "        #ax.plot(ticker_data[startdate:enddate][['High','Low']],color='g')\n",
    "        \n",
    "        ax.legend(ticker_data[['Close','10ma','20ma','+2sigma','-2sigma']])\n",
    "        \n",
    "        ax2.plot(ticker_data[startdate:enddate]['Vol_mavg'])\n",
    "        ax2.bar(ticker_data[startdate:enddate].index,ticker_data[startdate:enddate]['Volume'],color='black')\n",
    "        \n",
    "        ax3.set_ylabel('% Daily Return ')\n",
    "        ax3.bar(ticker_data[startdate:enddate].index,ticker_data[startdate:enddate]['Daily_Return'],color='black')\n",
    "        ax3.plot(ticker_data[startdate:enddate]['Daily_Return_ma'],color='r')\n",
    "        ax3.legend()\n",
    "\n",
    "        \n",
    "        plt.savefig(r'C:\\Users\\Crystal\\Desktop\\datasets\\sandp500\\P_over_10\\{} Stock Data.pdf'.format(ticker))\n",
    "        \n",
    "        \n"
   ]
  },
  {
   "cell_type": "code",
   "execution_count": 20,
   "metadata": {
    "collapsed": true
   },
   "outputs": [],
   "source": [
    "def price_over_10(ticker,ticker_data,start_date,end_date):\n",
    "    \n",
    "    ma_check=ticker_data['Close'].iloc[0]-ticker_data['10ma'].iloc[0]\n",
    "    DRMA=ticker_data['Daily_Return_ma'].iloc[0]\n",
    "        \n",
    "    #print(ticker_data['Close'].iloc[0]-ticker_data['10ma'].iloc[0])\n",
    "      \n",
    "    ma_check_previous= ticker_data['Close'].iloc[1]-ticker_data['10ma'].iloc[1]\n",
    "        \n",
    "    if (ma_check>0) and (ma_check_previous<0) and (DRMA>0):\n",
    "        print('{} meets the price _over_10 requirement. \\n'.format(ticker))\n",
    "        in_the_trade(ticker,ticker_data)\n",
    "        plot_the_stock(ticker,ticker_data,start_date,end_date)\n",
    "    elif(ma_check>0) and (ma_check_previous>0):\n",
    "        #print('{} is already over the 10sma \\n'.format(ticker))\n",
    "        pass\n",
    "    elif (ma_check<0):\n",
    "        #print('price _over_10 requirement is not met for {} \\n'.format(ticker))\n",
    "        pass"
   ]
  },
  {
   "cell_type": "code",
   "execution_count": 21,
   "metadata": {
    "collapsed": true
   },
   "outputs": [],
   "source": [
    "def in_the_trade(ticker,ticker_data,target_pct=.025,stop_loss_pct=.025):\n",
    "    \n",
    "    Location=(r'C:\\Users\\Crystal\\Desktop\\datasets\\sandp500\\P_over_10')\n",
    "    ticker_data['Target']=ticker_data.Close.iloc[0]+(ticker_data.Close.iloc[0]*target_pct)\n",
    "    ticker_data['Stop_Loss']=ticker_data.Close.iloc[0]-(ticker_data.Close.iloc[0]*stop_loss_pct)\n",
    "    ticker_data['Symbol']=ticker\n",
    "    \n",
    "    trade_entry=ticker_data.head(1)\n",
    "    trade_entry.to_csv(Location+'\\{}_trade_watch.csv'.format(ticker))\n",
    "    \n",
    "    with open(Location+'\\P10_trade_watch\\P10_tickers.csv','a',newline='') as me_file:\n",
    "        daywriter=csv.writer(me_file)\n",
    "        daywriter.writerow([ticker])\n",
    "    me_file.close\n",
    "    \n",
    "    \n",
    "    #print(trade_entry)"
   ]
  },
  {
   "cell_type": "code",
   "execution_count": 22,
   "metadata": {
    "collapsed": true
   },
   "outputs": [],
   "source": [
    "def trade_watch():\n",
    "    pass"
   ]
  },
  {
   "cell_type": "code",
   "execution_count": 23,
   "metadata": {
    "collapsed": true
   },
   "outputs": [],
   "source": [
    "def list_of_stocks():\n",
    "    my_stocks=[]\n",
    "    Location_1=(r'C:\\Users\\Crystal\\Desktop\\datasets\\sandp500\\SP500_tickers\\All_SP500.csv')\n",
    "    with open(Location_1,'r') as get_tickers:\n",
    "        dayreader=csv.reader(get_tickers)\n",
    "        #print (dayreader)\n",
    "        for the_symbols in dayreader:\n",
    "            my_stocks.append(the_symbols[0])     \n",
    "    get_tickers.close\n",
    "    \n",
    "    return my_stocks"
   ]
  },
  {
   "cell_type": "code",
   "execution_count": 24,
   "metadata": {
    "collapsed": true
   },
   "outputs": [],
   "source": [
    "def consolidate_data():\n",
    "    #with open(Location+'\\P10_trade_watch\\P10_watch.csv','a',newline='') as me_file:\n",
    "        #daywriter=csv.writer(me_file)\n",
    "        #daywriter.writerow([trade_entry])\n",
    "    #me_file.close\n",
    "    pass"
   ]
  },
  {
   "cell_type": "code",
   "execution_count": 25,
   "metadata": {
    "collapsed": true
   },
   "outputs": [],
   "source": [
    "if __name__ == \"__main__\":\n",
    "    startTime=time.time()\n",
    "    # stocks=list_of_stocks()\n",
    "    #print(stocks)\n",
    "    stocks=['cern','aapl','slb','fmc','aig','cvs']\n",
    "    stocks.sort()\n",
    "    start_date=dt.datetime(2019,1,1)\n",
    "    end_date=dt.date.today()\n",
    "    source_of_data='remote'"
   ]
  },
  {
   "cell_type": "code",
   "execution_count": 26,
   "metadata": {
    "scrolled": false
   },
   "outputs": [
    {
     "name": "stdout",
     "output_type": "stream",
     "text": [
      "\n",
      " aapl\n",
      "          date    open    high     low   close    volume\n",
      "17  2019-01-28  155.79  156.33  153.66  156.30  26192058\n",
      "18  2019-01-29  156.25  158.13  154.11  154.68  41587239\n",
      "19  2019-01-30  163.25  166.15  160.23  165.25  61109780\n",
      "20  2019-01-31  166.11  169.00  164.56  166.44  40739649\n",
      "21  2019-02-01  166.96  168.98  165.93  166.52  32668138\n",
      "\n",
      " aig\n",
      "          date   open   high    low  close   volume\n",
      "17  2019-01-28  43.00  43.07  42.27  42.82  4146730\n",
      "18  2019-01-29  42.65  42.76  42.21  42.26  3545710\n",
      "19  2019-01-30  42.35  43.11  42.10  42.81  4519937\n",
      "20  2019-01-31  42.49  43.32  42.36  43.23  6456629\n",
      "21  2019-02-01  43.45  43.83  43.05  43.82  3383435\n",
      "\n",
      " cern\n",
      "          date   open     high     low  close   volume\n",
      "17  2019-01-28  54.52  55.0973  54.420  54.95  1771741\n",
      "18  2019-01-29  54.96  55.1650  54.320  54.50  1573969\n",
      "19  2019-01-30  54.59  54.7900  54.210  54.49  4318502\n",
      "20  2019-01-31  54.53  55.2500  54.460  54.91  3654653\n",
      "21  2019-02-01  54.86  55.2500  54.605  54.86  2167904\n",
      "\n",
      " cvs\n",
      "          date   open   high    low  close    volume\n",
      "17  2019-01-28  65.11  65.26  63.58  65.24   8641966\n",
      "18  2019-01-29  65.46  66.15  65.18  65.54   7293629\n",
      "19  2019-01-30  66.29  66.66  65.77  65.96   7340566\n",
      "20  2019-01-31  65.95  66.41  65.55  65.55  10883218\n",
      "21  2019-02-01  64.50  65.72  62.88  65.22  16742452\n",
      "\n",
      " fmc\n",
      "          date   open   high    low  close   volume\n",
      "17  2019-01-28  78.39  79.18  78.18  79.12   608754\n",
      "18  2019-01-29  79.25  80.30  79.24  80.10   752226\n",
      "19  2019-01-30  80.49  81.33  79.41  80.60   799317\n",
      "20  2019-01-31  79.49  80.51  77.65  79.80  1296706\n",
      "21  2019-02-01  85.29  86.23  82.80  85.83  2575333\n",
      "\n",
      " slb\n",
      "          date   open     high    low  close    volume\n",
      "17  2019-01-28  44.27  44.5500  43.77  44.24  11225257\n",
      "18  2019-01-29  44.68  44.8400  43.84  44.00   8097549\n",
      "19  2019-01-30  44.17  45.0450  43.94  45.00   7961507\n",
      "20  2019-01-31  45.00  45.0100  43.73  44.21  15458136\n",
      "21  2019-02-01  44.40  44.9673  44.20  44.56   8583682\n"
     ]
    },
    {
     "ename": "ValueError",
     "evalue": "'Date' is not in list",
     "output_type": "error",
     "traceback": [
      "\u001b[1;31m---------------------------------------------------------------------------\u001b[0m",
      "\u001b[1;31mValueError\u001b[0m                                Traceback (most recent call last)",
      "\u001b[1;32m<ipython-input-26-af24f71b642e>\u001b[0m in \u001b[0;36m<module>\u001b[1;34m()\u001b[0m\n\u001b[0;32m      9\u001b[0m \u001b[1;32mfor\u001b[0m \u001b[0mk\u001b[0m \u001b[1;32min\u001b[0m \u001b[0mstocks\u001b[0m\u001b[1;33m:\u001b[0m\u001b[1;33m\u001b[0m\u001b[0m\n\u001b[0;32m     10\u001b[0m     \u001b[0mLocation\u001b[0m\u001b[1;33m=\u001b[0m\u001b[1;34mr'C:\\Users\\Crystal\\Desktop\\datasets\\stocks\\{}_dataset.csv'\u001b[0m\u001b[1;33m.\u001b[0m\u001b[0mformat\u001b[0m\u001b[1;33m(\u001b[0m\u001b[0mk\u001b[0m\u001b[1;33m.\u001b[0m\u001b[0mupper\u001b[0m\u001b[1;33m(\u001b[0m\u001b[1;33m)\u001b[0m\u001b[1;33m)\u001b[0m\u001b[1;33m\u001b[0m\u001b[0m\n\u001b[1;32m---> 11\u001b[1;33m     \u001b[0mstock_reviewed\u001b[0m\u001b[1;33m=\u001b[0m\u001b[0mpd\u001b[0m\u001b[1;33m.\u001b[0m\u001b[0mread_csv\u001b[0m\u001b[1;33m(\u001b[0m\u001b[0mLocation\u001b[0m\u001b[1;33m,\u001b[0m\u001b[0mparse_dates\u001b[0m\u001b[1;33m=\u001b[0m\u001b[1;32mTrue\u001b[0m\u001b[1;33m,\u001b[0m\u001b[0mindex_col\u001b[0m\u001b[1;33m=\u001b[0m\u001b[1;34m'Date'\u001b[0m\u001b[1;33m)\u001b[0m\u001b[1;33m\u001b[0m\u001b[0m\n\u001b[0m\u001b[0;32m     12\u001b[0m     \u001b[0mstock_with_indicators\u001b[0m\u001b[1;33m=\u001b[0m\u001b[0mcalculate_indicators\u001b[0m\u001b[1;33m(\u001b[0m\u001b[0mk\u001b[0m\u001b[1;33m.\u001b[0m\u001b[0mupper\u001b[0m\u001b[1;33m(\u001b[0m\u001b[1;33m)\u001b[0m\u001b[1;33m,\u001b[0m\u001b[0mstock_reviewed\u001b[0m\u001b[1;33m)\u001b[0m\u001b[1;33m\u001b[0m\u001b[0m\n\u001b[0;32m     13\u001b[0m     \u001b[0mprice_over_10\u001b[0m\u001b[1;33m(\u001b[0m\u001b[0mk\u001b[0m\u001b[1;33m.\u001b[0m\u001b[0mupper\u001b[0m\u001b[1;33m(\u001b[0m\u001b[1;33m)\u001b[0m\u001b[1;33m,\u001b[0m\u001b[0mstock_with_indicators\u001b[0m\u001b[1;33m,\u001b[0m\u001b[0mstart_date\u001b[0m\u001b[1;33m,\u001b[0m\u001b[0mend_date\u001b[0m\u001b[1;33m)\u001b[0m\u001b[1;33m\u001b[0m\u001b[0m\n",
      "\u001b[1;32mC:\\Users\\Public\\Programming\\lib\\site-packages\\pandas\\io\\parsers.py\u001b[0m in \u001b[0;36mparser_f\u001b[1;34m(filepath_or_buffer, sep, delimiter, header, names, index_col, usecols, squeeze, prefix, mangle_dupe_cols, dtype, engine, converters, true_values, false_values, skipinitialspace, skiprows, skipfooter, nrows, na_values, keep_default_na, na_filter, verbose, skip_blank_lines, parse_dates, infer_datetime_format, keep_date_col, date_parser, dayfirst, iterator, chunksize, compression, thousands, decimal, lineterminator, quotechar, quoting, doublequote, escapechar, comment, encoding, dialect, tupleize_cols, error_bad_lines, warn_bad_lines, delim_whitespace, low_memory, memory_map, float_precision)\u001b[0m\n\u001b[0;32m    695\u001b[0m                     skip_blank_lines=skip_blank_lines)\n\u001b[0;32m    696\u001b[0m \u001b[1;33m\u001b[0m\u001b[0m\n\u001b[1;32m--> 697\u001b[1;33m         \u001b[1;32mreturn\u001b[0m \u001b[0m_read\u001b[0m\u001b[1;33m(\u001b[0m\u001b[0mfilepath_or_buffer\u001b[0m\u001b[1;33m,\u001b[0m \u001b[0mkwds\u001b[0m\u001b[1;33m)\u001b[0m\u001b[1;33m\u001b[0m\u001b[0m\n\u001b[0m\u001b[0;32m    698\u001b[0m \u001b[1;33m\u001b[0m\u001b[0m\n\u001b[0;32m    699\u001b[0m     \u001b[0mparser_f\u001b[0m\u001b[1;33m.\u001b[0m\u001b[0m__name__\u001b[0m \u001b[1;33m=\u001b[0m \u001b[0mname\u001b[0m\u001b[1;33m\u001b[0m\u001b[0m\n",
      "\u001b[1;32mC:\\Users\\Public\\Programming\\lib\\site-packages\\pandas\\io\\parsers.py\u001b[0m in \u001b[0;36m_read\u001b[1;34m(filepath_or_buffer, kwds)\u001b[0m\n\u001b[0;32m    422\u001b[0m \u001b[1;33m\u001b[0m\u001b[0m\n\u001b[0;32m    423\u001b[0m     \u001b[1;31m# Create the parser.\u001b[0m\u001b[1;33m\u001b[0m\u001b[1;33m\u001b[0m\u001b[0m\n\u001b[1;32m--> 424\u001b[1;33m     \u001b[0mparser\u001b[0m \u001b[1;33m=\u001b[0m \u001b[0mTextFileReader\u001b[0m\u001b[1;33m(\u001b[0m\u001b[0mfilepath_or_buffer\u001b[0m\u001b[1;33m,\u001b[0m \u001b[1;33m**\u001b[0m\u001b[0mkwds\u001b[0m\u001b[1;33m)\u001b[0m\u001b[1;33m\u001b[0m\u001b[0m\n\u001b[0m\u001b[0;32m    425\u001b[0m \u001b[1;33m\u001b[0m\u001b[0m\n\u001b[0;32m    426\u001b[0m     \u001b[1;32mif\u001b[0m \u001b[0mchunksize\u001b[0m \u001b[1;32mor\u001b[0m \u001b[0miterator\u001b[0m\u001b[1;33m:\u001b[0m\u001b[1;33m\u001b[0m\u001b[0m\n",
      "\u001b[1;32mC:\\Users\\Public\\Programming\\lib\\site-packages\\pandas\\io\\parsers.py\u001b[0m in \u001b[0;36m__init__\u001b[1;34m(self, f, engine, **kwds)\u001b[0m\n\u001b[0;32m    888\u001b[0m             \u001b[0mself\u001b[0m\u001b[1;33m.\u001b[0m\u001b[0moptions\u001b[0m\u001b[1;33m[\u001b[0m\u001b[1;34m'has_index_names'\u001b[0m\u001b[1;33m]\u001b[0m \u001b[1;33m=\u001b[0m \u001b[0mkwds\u001b[0m\u001b[1;33m[\u001b[0m\u001b[1;34m'has_index_names'\u001b[0m\u001b[1;33m]\u001b[0m\u001b[1;33m\u001b[0m\u001b[0m\n\u001b[0;32m    889\u001b[0m \u001b[1;33m\u001b[0m\u001b[0m\n\u001b[1;32m--> 890\u001b[1;33m         \u001b[0mself\u001b[0m\u001b[1;33m.\u001b[0m\u001b[0m_make_engine\u001b[0m\u001b[1;33m(\u001b[0m\u001b[0mself\u001b[0m\u001b[1;33m.\u001b[0m\u001b[0mengine\u001b[0m\u001b[1;33m)\u001b[0m\u001b[1;33m\u001b[0m\u001b[0m\n\u001b[0m\u001b[0;32m    891\u001b[0m \u001b[1;33m\u001b[0m\u001b[0m\n\u001b[0;32m    892\u001b[0m     \u001b[1;32mdef\u001b[0m \u001b[0mclose\u001b[0m\u001b[1;33m(\u001b[0m\u001b[0mself\u001b[0m\u001b[1;33m)\u001b[0m\u001b[1;33m:\u001b[0m\u001b[1;33m\u001b[0m\u001b[0m\n",
      "\u001b[1;32mC:\\Users\\Public\\Programming\\lib\\site-packages\\pandas\\io\\parsers.py\u001b[0m in \u001b[0;36m_make_engine\u001b[1;34m(self, engine)\u001b[0m\n\u001b[0;32m   1115\u001b[0m     \u001b[1;32mdef\u001b[0m \u001b[0m_make_engine\u001b[0m\u001b[1;33m(\u001b[0m\u001b[0mself\u001b[0m\u001b[1;33m,\u001b[0m \u001b[0mengine\u001b[0m\u001b[1;33m=\u001b[0m\u001b[1;34m'c'\u001b[0m\u001b[1;33m)\u001b[0m\u001b[1;33m:\u001b[0m\u001b[1;33m\u001b[0m\u001b[0m\n\u001b[0;32m   1116\u001b[0m         \u001b[1;32mif\u001b[0m \u001b[0mengine\u001b[0m \u001b[1;33m==\u001b[0m \u001b[1;34m'c'\u001b[0m\u001b[1;33m:\u001b[0m\u001b[1;33m\u001b[0m\u001b[0m\n\u001b[1;32m-> 1117\u001b[1;33m             \u001b[0mself\u001b[0m\u001b[1;33m.\u001b[0m\u001b[0m_engine\u001b[0m \u001b[1;33m=\u001b[0m \u001b[0mCParserWrapper\u001b[0m\u001b[1;33m(\u001b[0m\u001b[0mself\u001b[0m\u001b[1;33m.\u001b[0m\u001b[0mf\u001b[0m\u001b[1;33m,\u001b[0m \u001b[1;33m**\u001b[0m\u001b[0mself\u001b[0m\u001b[1;33m.\u001b[0m\u001b[0moptions\u001b[0m\u001b[1;33m)\u001b[0m\u001b[1;33m\u001b[0m\u001b[0m\n\u001b[0m\u001b[0;32m   1118\u001b[0m         \u001b[1;32melse\u001b[0m\u001b[1;33m:\u001b[0m\u001b[1;33m\u001b[0m\u001b[0m\n\u001b[0;32m   1119\u001b[0m             \u001b[1;32mif\u001b[0m \u001b[0mengine\u001b[0m \u001b[1;33m==\u001b[0m \u001b[1;34m'python'\u001b[0m\u001b[1;33m:\u001b[0m\u001b[1;33m\u001b[0m\u001b[0m\n",
      "\u001b[1;32mC:\\Users\\Public\\Programming\\lib\\site-packages\\pandas\\io\\parsers.py\u001b[0m in \u001b[0;36m__init__\u001b[1;34m(self, src, **kwds)\u001b[0m\n\u001b[0;32m   1897\u001b[0m                 \u001b[0m_validate_usecols_names\u001b[0m\u001b[1;33m(\u001b[0m\u001b[0musecols\u001b[0m\u001b[1;33m,\u001b[0m \u001b[0mself\u001b[0m\u001b[1;33m.\u001b[0m\u001b[0mnames\u001b[0m\u001b[1;33m)\u001b[0m\u001b[1;33m\u001b[0m\u001b[0m\n\u001b[0;32m   1898\u001b[0m \u001b[1;33m\u001b[0m\u001b[0m\n\u001b[1;32m-> 1899\u001b[1;33m         \u001b[0mself\u001b[0m\u001b[1;33m.\u001b[0m\u001b[0m_set_noconvert_columns\u001b[0m\u001b[1;33m(\u001b[0m\u001b[1;33m)\u001b[0m\u001b[1;33m\u001b[0m\u001b[0m\n\u001b[0m\u001b[0;32m   1900\u001b[0m \u001b[1;33m\u001b[0m\u001b[0m\n\u001b[0;32m   1901\u001b[0m         \u001b[0mself\u001b[0m\u001b[1;33m.\u001b[0m\u001b[0morig_names\u001b[0m \u001b[1;33m=\u001b[0m \u001b[0mself\u001b[0m\u001b[1;33m.\u001b[0m\u001b[0mnames\u001b[0m\u001b[1;33m\u001b[0m\u001b[0m\n",
      "\u001b[1;32mC:\\Users\\Public\\Programming\\lib\\site-packages\\pandas\\io\\parsers.py\u001b[0m in \u001b[0;36m_set_noconvert_columns\u001b[1;34m(self)\u001b[0m\n\u001b[0;32m   1979\u001b[0m             \u001b[1;32mif\u001b[0m \u001b[0misinstance\u001b[0m\u001b[1;33m(\u001b[0m\u001b[0mself\u001b[0m\u001b[1;33m.\u001b[0m\u001b[0mindex_col\u001b[0m\u001b[1;33m,\u001b[0m \u001b[0mlist\u001b[0m\u001b[1;33m)\u001b[0m\u001b[1;33m:\u001b[0m\u001b[1;33m\u001b[0m\u001b[0m\n\u001b[0;32m   1980\u001b[0m                 \u001b[1;32mfor\u001b[0m \u001b[0mk\u001b[0m \u001b[1;32min\u001b[0m \u001b[0mself\u001b[0m\u001b[1;33m.\u001b[0m\u001b[0mindex_col\u001b[0m\u001b[1;33m:\u001b[0m\u001b[1;33m\u001b[0m\u001b[0m\n\u001b[1;32m-> 1981\u001b[1;33m                     \u001b[0m_set\u001b[0m\u001b[1;33m(\u001b[0m\u001b[0mk\u001b[0m\u001b[1;33m)\u001b[0m\u001b[1;33m\u001b[0m\u001b[0m\n\u001b[0m\u001b[0;32m   1982\u001b[0m             \u001b[1;32melif\u001b[0m \u001b[0mself\u001b[0m\u001b[1;33m.\u001b[0m\u001b[0mindex_col\u001b[0m \u001b[1;32mis\u001b[0m \u001b[1;32mnot\u001b[0m \u001b[1;32mNone\u001b[0m\u001b[1;33m:\u001b[0m\u001b[1;33m\u001b[0m\u001b[0m\n\u001b[0;32m   1983\u001b[0m                 \u001b[0m_set\u001b[0m\u001b[1;33m(\u001b[0m\u001b[0mself\u001b[0m\u001b[1;33m.\u001b[0m\u001b[0mindex_col\u001b[0m\u001b[1;33m)\u001b[0m\u001b[1;33m\u001b[0m\u001b[0m\n",
      "\u001b[1;32mC:\\Users\\Public\\Programming\\lib\\site-packages\\pandas\\io\\parsers.py\u001b[0m in \u001b[0;36m_set\u001b[1;34m(x)\u001b[0m\n\u001b[0;32m   1956\u001b[0m \u001b[1;33m\u001b[0m\u001b[0m\n\u001b[0;32m   1957\u001b[0m             \u001b[1;32mif\u001b[0m \u001b[1;32mnot\u001b[0m \u001b[0mis_integer\u001b[0m\u001b[1;33m(\u001b[0m\u001b[0mx\u001b[0m\u001b[1;33m)\u001b[0m\u001b[1;33m:\u001b[0m\u001b[1;33m\u001b[0m\u001b[0m\n\u001b[1;32m-> 1958\u001b[1;33m                 \u001b[0mx\u001b[0m \u001b[1;33m=\u001b[0m \u001b[0mnames\u001b[0m\u001b[1;33m.\u001b[0m\u001b[0mindex\u001b[0m\u001b[1;33m(\u001b[0m\u001b[0mx\u001b[0m\u001b[1;33m)\u001b[0m\u001b[1;33m\u001b[0m\u001b[0m\n\u001b[0m\u001b[0;32m   1959\u001b[0m \u001b[1;33m\u001b[0m\u001b[0m\n\u001b[0;32m   1960\u001b[0m             \u001b[0mself\u001b[0m\u001b[1;33m.\u001b[0m\u001b[0m_reader\u001b[0m\u001b[1;33m.\u001b[0m\u001b[0mset_noconvert\u001b[0m\u001b[1;33m(\u001b[0m\u001b[0mx\u001b[0m\u001b[1;33m)\u001b[0m\u001b[1;33m\u001b[0m\u001b[0m\n",
      "\u001b[1;31mValueError\u001b[0m: 'Date' is not in list"
     ]
    }
   ],
   "source": [
    "    for i in stocks:\n",
    "        get_stocks(i,start_date,end_date,source_of_data)\n",
    "        location=r'C:\\Users\\Crystal\\Desktop\\datasets\\stocks\\{}_dataset.csv'.format(i.upper())\n",
    "#         the_stock_data=pd.read_csv(location,parse_dates=True,index_col='Date')\n",
    "        the_stock_data=pd.read_csv(location)\n",
    "        print('\\n',i)\n",
    "        print(the_stock_data.tail())\n",
    "\n",
    "    for k in stocks:\n",
    "        Location=r'C:\\Users\\Crystal\\Desktop\\datasets\\stocks\\{}_dataset.csv'.format(k.upper())\n",
    "        stock_reviewed=pd.read_csv(Location,parse_dates=True,index_col='Date')\n",
    "        stock_with_indicators=calculate_indicators(k.upper(),stock_reviewed)\n",
    "        price_over_10(k.upper(),stock_with_indicators,start_date,end_date)\n",
    "\n",
    "    endTime=time.time()\n",
    "\n",
    "    print('Duration :',endTime-startTime,' seconds')"
   ]
  },
  {
   "cell_type": "code",
   "execution_count": null,
   "metadata": {
    "collapsed": true
   },
   "outputs": [],
   "source": []
  },
  {
   "cell_type": "code",
   "execution_count": null,
   "metadata": {
    "collapsed": true
   },
   "outputs": [],
   "source": []
  }
 ],
 "metadata": {
  "kernelspec": {
   "display_name": "Python 3",
   "language": "python",
   "name": "python3"
  },
  "language_info": {
   "codemirror_mode": {
    "name": "ipython",
    "version": 3
   },
   "file_extension": ".py",
   "mimetype": "text/x-python",
   "name": "python",
   "nbconvert_exporter": "python",
   "pygments_lexer": "ipython3",
   "version": "3.6.3"
  }
 },
 "nbformat": 4,
 "nbformat_minor": 2
}
