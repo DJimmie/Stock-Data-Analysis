{
 "cells": [
  {
   "cell_type": "code",
   "execution_count": null,
   "metadata": {
    "collapsed": true
   },
   "outputs": [],
   "source": [
    "import pandas as pd\n",
    "from io import StringIO\n",
    "import numpy as np\n",
    "import datetime\n",
    "import matplotlib.pyplot as plt\n",
    "from pandas.plotting import scatter_matrix\n",
    "from sklearn import preprocessing\n",
    "from sklearn.model_selection import train_test_split\n",
    "from sklearn.model_selection import KFold\n",
    "from scipy import stats\n",
    "#% matplotlib inline\n",
    "#plt.style.use('ggplot')"
   ]
  },
  {
   "cell_type": "code",
   "execution_count": null,
   "metadata": {
    "collapsed": true
   },
   "outputs": [],
   "source": [
    "def get_stocks (ticker,location):\n",
    "    print(ticker)\n",
    "    the_data=pd.read_csv(location,parse_dates=True,index_col='Date')\n",
    "    #the_data.to_csv(r'C:\\Users\\Crystal\\Desktop\\datasets\\stocks\\{}_data.csv'.format(ticker.upper()))\n",
    "    the_data=the_data['2016-01-01':'2017-12-31']\n",
    "    return the_data"
   ]
  },
  {
   "cell_type": "code",
   "execution_count": null,
   "metadata": {
    "collapsed": true
   },
   "outputs": [],
   "source": [
    "def the_slope(my_data,plot_me='no'):\n",
    "    n=0\n",
    "    q=0\n",
    "    p=5\n",
    "    r=10\n",
    "    \n",
    "    my_slope_5=[]\n",
    "    slope_rate_5=[]\n",
    "    my_slope_10=[]\n",
    "    slope_rate_10=[]\n",
    "    \n",
    "    my_data['5_Slope']=0\n",
    "    my_data['5_Slope_rate']=0\n",
    "    \n",
    "    my_data['10_Slope']=0\n",
    "    my_data['10_Slope_rate']=0\n",
    "    \n",
    "   \n",
    "    for i in range(0,len(my_data)):\n",
    "        #print (i)\n",
    "        if (i>5):\n",
    "            y=my_data.Close.values\n",
    "            y=y[n:p]\n",
    "            x=np.arange(y.shape[0])\n",
    "            #print(i,x,y)\n",
    "            m,b,r_value,p_value,std_err=stats.linregress(x,y)\n",
    "            my_slope_5.append(m)\n",
    "            s_rate=my_slope_5[i]-my_slope_5[i-1]\n",
    "            #print ('5_slope:',m,b)\n",
    "            #print ('5_slope_rate:',s_rate,'\\n')\n",
    "            slope_rate_5.append(s_rate)\n",
    "            my_data['5_Slope'].iloc[i]=m\n",
    "            my_data['5_Slope_rate'].iloc[i]=s_rate\n",
    "            \n",
    "            n=n+1\n",
    "            p=p+1\n",
    "            \n",
    "        else:\n",
    "            my_slope_5.append(0)\n",
    "            slope_rate_5.append(0)\n",
    "            my_data['5_Slope'].iloc[i]=0\n",
    "            my_data['5_Slope_rate'].iloc[i]=0\n",
    "            \n",
    "        \n",
    "            \n",
    "        if (i>10):\n",
    "            y1=my_data.Close.values\n",
    "            mov_avg=my_data['10ma'].values\n",
    "            mov_avg_20=my_data['20ma'].values\n",
    "            rsi=my_data['RSI'].values\n",
    "            y1=y1[q:r]\n",
    "            y2=y1[5:10]\n",
    "            mov_avg=mov_avg[q:r]\n",
    "            mov_avg_20=mov_avg_20[q:r]\n",
    "            rsi=rsi[q:r]\n",
    "            x1=np.arange(y1.shape[0])\n",
    "            x2=x1[5:10]\n",
    "            #print(i,x1,x2,y2,y1)\n",
    "            m1,b2,r1_value,p1_value,std_err1=stats.linregress(x1,y1)\n",
    "            m2,b3,r2_value,p2_value,std_err2=stats.linregress(x2,y2)\n",
    "            \n",
    "            my_slope_10.append(m1)\n",
    "            s_rate_10=my_slope_10[i]-my_slope_10[i-1]\n",
    "            #print ('10_slope:',m1)\n",
    "            #print ('10_slope_rate:',s_rate_10,'\\n')\n",
    "            slope_rate_10.append(s_rate_10)\n",
    "            my_data['10_Slope'].iloc[i]=m1\n",
    "            my_data['10_Slope_rate'].iloc[i]=s_rate_10\n",
    "            \n",
    "            #print(my_data.index[i].date())\n",
    "            \n",
    "            q=q+1\n",
    "            r=r+1\n",
    "            \n",
    "            ma_check=my_data['Close'].iloc[i]-my_data['20ma'].iloc[i]\n",
    "            ma_check_previous= my_data['Close'].iloc[i-1]-my_data['20ma'].iloc[i-1]\n",
    "            \n",
    "            \n",
    "            if (plot_me=='yes') and (i>10) and (ma_check>0) and (ma_check_previous<0):\n",
    "                \n",
    "                in_trade=1\n",
    "                \n",
    "                print ('5_slope:',m,b)\n",
    "                print ('5_slope_rate:',s_rate,'\\n')\n",
    "                print ('10_slope:',m1)\n",
    "                print ('10_slope_rate:',s_rate_10,'\\n')\n",
    "                print('Enter trade on:',my_data.index[i].date())\n",
    "                \n",
    "                plt.subplot(211)\n",
    "                plt.grid()\n",
    "                plt.plot(x1,y1, color='green')\n",
    "                plt.scatter(x1,y1, color='green')\n",
    "                plt.plot(x1,m1*x1+b2,color='blue')\n",
    "                plt.plot(x2,m*x2+b3,color='black')\n",
    "                plt.plot(x1,mov_avg, color='yellow')\n",
    "                plt.plot(x1,mov_avg_20, color='red')\n",
    "                \n",
    "                plt.subplot(212)\n",
    "                plt.grid()\n",
    "                plt.ylim(0,100,10)\n",
    "                plt.axhline(y=70,color='black')\n",
    "                plt.axhline(y=20,color='black')\n",
    "        \n",
    "                plt.plot(x1,rsi,color='red')\n",
    "            \n",
    "                plt.show()\n",
    "            \n",
    "            \n",
    "                \n",
    "            if (plot_me=='yes') and (i>10) and (ma_check<0) and (ma_check_previous>0):\n",
    "                \n",
    "                in_trade=0\n",
    "                \n",
    "                print ('5_slope:',m,b)\n",
    "                print ('5_slope_rate:',s_rate,'\\n')\n",
    "                print ('10_slope:',m1)\n",
    "                print ('10_slope_rate:',s_rate_10,'\\n')\n",
    "                print('Exit trade on:',my_data.index[i].date())\n",
    "                \n",
    "                plt.subplot(211)\n",
    "                plt.grid()\n",
    "                plt.plot(x1,y1, color='green')\n",
    "                plt.scatter(x1,y1, color='green')\n",
    "                plt.plot(x1,m1*x1+b2,color='blue')\n",
    "                plt.plot(x2,m*x2+b3,color='black')\n",
    "                plt.plot(x1,mov_avg, color='yellow')\n",
    "                plt.plot(x1,mov_avg_20, color='red')\n",
    "                \n",
    "                plt.subplot(212)\n",
    "                plt.grid()\n",
    "                plt.ylim(0,100,10)\n",
    "                plt.axhline(y=70,color='black')\n",
    "                plt.axhline(y=20,color='black')\n",
    "        \n",
    "                plt.plot(x1,rsi,color='red')\n",
    "            \n",
    "                plt.show()\n",
    "            \n",
    "        else:\n",
    "            my_slope_10.append(0)\n",
    "            slope_rate_10.append(0)\n",
    "            my_data['10_Slope'].iloc[i]=0\n",
    "            my_data['10_Slope_rate'].iloc[i]=0\n",
    "            \n",
    "            \n",
    "            \n",
    "    return my_data"
   ]
  },
  {
   "cell_type": "code",
   "execution_count": null,
   "metadata": {
    "collapsed": true
   },
   "outputs": [],
   "source": [
    "def moving_average(my_data):\n",
    "    \n",
    "    my_data['10ma']=my_data['Close'].rolling(window=10).mean()\n",
    "    my_data.dropna(inplace=True)\n",
    "    \n",
    "    return my_data"
   ]
  },
  {
   "cell_type": "code",
   "execution_count": null,
   "metadata": {
    "collapsed": true
   },
   "outputs": [],
   "source": [
    "def moving_average_20(my_data):\n",
    "    \n",
    "    my_data['20ma']=my_data['Close'].rolling(window=20).mean()\n",
    "    my_data.dropna(inplace=True)\n",
    "    \n",
    "    return my_data"
   ]
  },
  {
   "cell_type": "code",
   "execution_count": null,
   "metadata": {
    "collapsed": true
   },
   "outputs": [],
   "source": [
    "def rsi_function(Close,n=14):\n",
    "    deltas=np.diff(Close)\n",
    "    seed=deltas[:n+1]\n",
    "    up=seed[seed>=0].sum()/n\n",
    "    down=-seed[seed<0].sum()/n\n",
    "    \n",
    "    rs=up/down\n",
    "    rsi=np.zeros_like(Close)\n",
    "    \n",
    "    rsi[:n]=100.-100./(1.+rs)\n",
    "    \n",
    "    for i in range(n,len(Close)):\n",
    "        delta=deltas[i-1]\n",
    "        if delta >0:\n",
    "            upval=delta\n",
    "            downval=0.\n",
    "        else:\n",
    "            upval=0.\n",
    "            downval=-delta\n",
    "            \n",
    "            \n",
    "        up=(up*(n-1)+upval)/n\n",
    "        down=(down*(n-1)+downval)/n\n",
    "        \n",
    "        rs=up/down\n",
    "        rsi[i]=100.-100./(1.+rs)\n",
    "        rsi[0:13]=np.nan\n",
    "        \n",
    "    the_rsi=pd.DataFrame(rsi)\n",
    "    rsi.reshape(the_rsi.shape[0],1)\n",
    "    return rsi\n",
    "        "
   ]
  },
  {
   "cell_type": "code",
   "execution_count": null,
   "metadata": {
    "collapsed": true,
    "scrolled": false
   },
   "outputs": [],
   "source": [
    "ticker='GE'\n",
    "plot_me='yes'\n",
    "location=r'C:\\Users\\Sharyn\\Desktop\\Datasets\\sandp500\\individual_stocks_5yr\\{}_data.csv'.format(ticker)\n",
    "my_data=get_stocks(ticker,location)\n",
    "the_rsi=rsi_function(my_data.Close)\n",
    "my_data['RSI']=the_rsi\n",
    "my_data=moving_average(my_data)\n",
    "my_data=moving_average_20(my_data)\n",
    "my_data.dropna\n",
    "print(my_data.info())\n",
    "print(my_data.head(30))\n",
    "#slope,slope_rate=the_slope(my_data)\n",
    "my_data=the_slope(my_data,plot_me)\n",
    "\n",
    "print(my_data.head(100))"
   ]
  },
  {
   "cell_type": "code",
   "execution_count": null,
   "metadata": {
    "collapsed": true,
    "scrolled": false
   },
   "outputs": [],
   "source": [
    "location=r'C:\\Users\\Sharyn\\Desktop\\Datasets\\sandp500\\indicated_data\\{}_indicated.csv'.format(ticker)\n",
    "ticker='AET'\n",
    "my_data=get_stocks(ticker,location)\n",
    "my_data.head(60)"
   ]
  },
  {
   "cell_type": "code",
   "execution_count": null,
   "metadata": {
    "collapsed": true
   },
   "outputs": [],
   "source": [
    "my_data=my_data['2016-10-01':'2016-12-15'][['Close','Slope','Slope_rate','Low','10ma','High','RSI']]"
   ]
  },
  {
   "cell_type": "code",
   "execution_count": null,
   "metadata": {
    "collapsed": true
   },
   "outputs": [],
   "source": [
    "my_data"
   ]
  },
  {
   "cell_type": "code",
   "execution_count": null,
   "metadata": {
    "collapsed": true
   },
   "outputs": [],
   "source": [
    "y=my_data.Close.values"
   ]
  },
  {
   "cell_type": "code",
   "execution_count": null,
   "metadata": {
    "collapsed": true,
    "scrolled": false
   },
   "outputs": [],
   "source": [
    "n=0\n",
    "p=10\n",
    "my_slope=[]\n",
    "my_rsi=[]\n",
    "for i in range(0,61):\n",
    "    #print (i)\n",
    "    if (i>10):\n",
    "        the_date=my_data.index[i].date()\n",
    "        the_rsi=my_data.RSI.iloc[i]\n",
    "        rsi=my_data.RSI.values\n",
    "        rsi=rsi[n:p]\n",
    "        y=my_data.Close.values\n",
    "        y=y[n:p]\n",
    "        x=np.arange(y.shape[0])\n",
    "        z=my_data['10ma'].values\n",
    "        z=z[n:p]\n",
    "        m,b,r_value,p_value,std_err=stats.linregress(x,y)\n",
    "        plt.subplot(211)\n",
    "        plt.grid()\n",
    "        plt.plot(x,y,color='green')\n",
    "        plt.plot(x,z,color='yellow')\n",
    "        plt.scatter(x,y, color='green')\n",
    "        plt.plot(x,m*x+b,color='black')\n",
    "        \n",
    "        plt.subplot(212)\n",
    "        plt.grid()\n",
    "        plt.ylim(0,100,10)\n",
    "        plt.axhline(y=70,color='black')\n",
    "        plt.axhline(y=20,color='black')\n",
    "        \n",
    "        plt.plot(x,rsi,color='red')\n",
    "        \n",
    "        plt.show()\n",
    "        print('m=',m)\n",
    "        print('RSI=',the_rsi)\n",
    "        print(the_date)\n",
    "        \n",
    "        my_slope.append(m)\n",
    "        my_rsi.append(the_rsi)\n",
    "        \n",
    "        n=n+1\n",
    "        p=p+1\n",
    "        \n",
    "        \n",
    "        "
   ]
  },
  {
   "cell_type": "code",
   "execution_count": null,
   "metadata": {
    "collapsed": true
   },
   "outputs": [],
   "source": [
    "plt.scatter(my_slope,my_rsi);plt.show()"
   ]
  },
  {
   "cell_type": "code",
   "execution_count": null,
   "metadata": {
    "collapsed": true
   },
   "outputs": [],
   "source": [
    "plt.hist2d(my_slope,my_rsi);plt.show()"
   ]
  },
  {
   "cell_type": "code",
   "execution_count": null,
   "metadata": {
    "collapsed": true,
    "scrolled": false
   },
   "outputs": [],
   "source": [
    "my_data=my_data['2016-10-01':'2016-12-15'][['Close','Slope','Slope_rate','Low','High']]\n",
    "print(my_data)"
   ]
  },
  {
   "cell_type": "code",
   "execution_count": null,
   "metadata": {
    "collapsed": true
   },
   "outputs": [],
   "source": [
    "slope_rate=[(x**2) for i in range(0,len(slope_list)) if i>10 for x in slope_list ]"
   ]
  },
  {
   "cell_type": "code",
   "execution_count": null,
   "metadata": {
    "collapsed": true
   },
   "outputs": [],
   "source": [
    "plt.plot(my_data['Slope']);plt.show()"
   ]
  },
  {
   "cell_type": "code",
   "execution_count": null,
   "metadata": {
    "collapsed": true
   },
   "outputs": [],
   "source": [
    "plt.plot(my_data['Slope_rate']);plt.show()"
   ]
  },
  {
   "cell_type": "code",
   "execution_count": null,
   "metadata": {
    "collapsed": true
   },
   "outputs": [],
   "source": [
    "location=r'C:\\Users\\Sharyn\\Desktop\\Datasets\\sandp500\\individual_stocks_5yr\\AET_data.csv'.format(ticker)\n",
    "print(ticker)\n",
    "the_data=pd.read_csv(location,parse_dates=True,index_col='Date')\n",
    "#the_data.to_csv(r'C:\\Users\\Crystal\\Desktop\\datasets\\stocks\\{}_data.csv'.format(ticker.upper()))\n"
   ]
  },
  {
   "cell_type": "code",
   "execution_count": null,
   "metadata": {
    "collapsed": true
   },
   "outputs": [],
   "source": [
    "\n",
    "the_data.head()"
   ]
  },
  {
   "cell_type": "code",
   "execution_count": null,
   "metadata": {
    "collapsed": true
   },
   "outputs": [],
   "source": [
    "the_data['2016-1-1':'2014-12-31']"
   ]
  },
  {
   "cell_type": "code",
   "execution_count": null,
   "metadata": {
    "collapsed": true
   },
   "outputs": [],
   "source": [
    "plt.plot()"
   ]
  }
 ],
 "metadata": {
  "kernelspec": {
   "display_name": "Python 3",
   "language": "python",
   "name": "python3"
  },
  "language_info": {
   "codemirror_mode": {
    "name": "ipython",
    "version": 3
   },
   "file_extension": ".py",
   "mimetype": "text/x-python",
   "name": "python",
   "nbconvert_exporter": "python",
   "pygments_lexer": "ipython3",
   "version": "3.6.3"
  }
 },
 "nbformat": 4,
 "nbformat_minor": 2
}
