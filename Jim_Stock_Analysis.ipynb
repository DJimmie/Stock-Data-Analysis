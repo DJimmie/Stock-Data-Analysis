{
 "cells": [
  {
   "cell_type": "code",
   "execution_count": 303,
   "metadata": {
    "collapsed": true
   },
   "outputs": [],
   "source": [
    "import pandas as pd\n",
    "import pandas_datareader\n",
    "# import pandas_datareader as pdr\n",
    "import pandas_datareader.data as web\n",
    "# from pandas_datareader import data, wb\n",
    "import numpy as np\n",
    "import matplotlib.pyplot as plt\n",
    "#import pandas.DateOffset\n",
    "import datetime as dt\n",
    "import time\n",
    "import csv"
   ]
  },
  {
   "cell_type": "code",
   "execution_count": 304,
   "metadata": {},
   "outputs": [
    {
     "data": {
      "text/plain": [
       "'0.7.0'"
      ]
     },
     "execution_count": 304,
     "metadata": {},
     "output_type": "execute_result"
    }
   ],
   "source": [
    "pandas_datareader.__version__"
   ]
  },
  {
   "cell_type": "code",
   "execution_count": 305,
   "metadata": {},
   "outputs": [
    {
     "data": {
      "text/plain": [
       "'0.24.0'"
      ]
     },
     "execution_count": 305,
     "metadata": {},
     "output_type": "execute_result"
    }
   ],
   "source": [
    "pd.__version__"
   ]
  },
  {
   "cell_type": "code",
   "execution_count": 306,
   "metadata": {
    "collapsed": true
   },
   "outputs": [],
   "source": [
    "def get_stocks (ticker, startdate,enddate,data_source):\n",
    "    #data sources--------------------------------------------------------------\n",
    "    if (data_source=='local'):\n",
    "        location=r'C:\\Users\\Crystal\\Desktop\\datasets\\sandp500\\individual_stocks_5yr\\{}_data.csv'.format(ticker.upper())\n",
    "        the_data=pd.read_csv(location,parse_dates=True,index_col='Date')\n",
    "        the_data.to_csv(r'C:\\Users\\Crystal\\Desktop\\datasets\\stocks\\{}_dataset.csv'.format(ticker.upper()))\n",
    "    elif (data_source=='remote'):\n",
    "        #the_data=pdr.get_data_yahoo(ticker.upper(),retry_count=3,start=startdate,end=enddate)\n",
    "#         the_data=web.DataReader(ticker.upper(),'yahoo',retry_count=3,start=startdate,end=enddate)\n",
    "#         the_data=web.DataReader(ticker.upper(),'google',retry_count=3,start=startdate,end=enddate)\n",
    "#         the_data=web.DataReader(ticker.upper(),'morningstar',retry_count=3,start=startdate,end=enddate)\n",
    "        the_data=web.DataReader(ticker.upper(),'iex',retry_count=3,start=startdate,end=enddate)\n",
    "\n",
    "        the_data.to_csv(r'C:\\Users\\Crystal\\Desktop\\datasets\\stocks\\{}_dataset.csv'.format(ticker.upper()))\n",
    "    \n",
    "    #print (ticker.upper())\n",
    "    #print(the_data)\n",
    "    #return (the_data)\n",
    "        \n",
    "        \n",
    "        "
   ]
  },
  {
   "cell_type": "code",
   "execution_count": 307,
   "metadata": {
    "collapsed": true
   },
   "outputs": [],
   "source": [
    "def calculate_indicators (ticker, ticker_data):\n",
    "    #print('I have the {} data.'.format(ticker))\n",
    "    #print(ticker_data.head())\n",
    "    \n",
    "    ticker_data['10ma']=ticker_data['Close'].rolling(window=10).mean()\n",
    "    ticker_data.dropna(inplace=True)\n",
    "    ticker_data['20ma']=ticker_data['Close'].rolling(window=20).mean()\n",
    "    ticker_data['+2sigma']=ticker_data['20ma']+((ticker_data['Close'].rolling(window=20).std())*2)\n",
    "    ticker_data['-2sigma']=ticker_data['20ma']-((ticker_data['Close'].rolling(window=20).std())*2)\n",
    "    ticker_data['Vol_mavg']=ticker_data['Volume'].rolling(window=20).mean()\n",
    "    ticker_data['Daily_Return']=((ticker_data.Close-ticker_data.Close.shift(1))/ticker_data.Close.shift(1))*100\n",
    "    ticker_data['Daily_Return_ma']=ticker_data['Daily_Return'].rolling(window=10).mean()\n",
    "    ticker_data.dropna(inplace=True)\n",
    "    \n",
    "    ticker_data.sort_index(ascending=False,inplace=True)\n",
    "    \n",
    "    #print(ticker_data.head())\n",
    "    #print(ticker_data.info())\n",
    "    return ticker_data"
   ]
  },
  {
   "cell_type": "code",
   "execution_count": 308,
   "metadata": {
    "collapsed": true
   },
   "outputs": [],
   "source": [
    "    def plot_the_stock(ticker,ticker_data,startdate,enddate):\n",
    "        #print('Ready to plot')\n",
    "        \n",
    "        ticker_data.sort_index(ascending=True,inplace=True)\n",
    "        \n",
    "        fig=plt.figure(figsize=(15,15))\n",
    "        fig.suptitle('{} Plot'.format(ticker))\n",
    " \n",
    "        ax=fig.add_subplot(311)\n",
    "        #ax1=fig.add_subplot(412)\n",
    "        ax2=fig.add_subplot(312)\n",
    "        ax3=fig.add_subplot(313)\n",
    "\n",
    "        ax.set_xlabel('Date')\n",
    "        ax.set_ylabel('Price')\n",
    " \n",
    "        ax.set_title(label='{} Stock Data'.format(ticker),loc='left')\n",
    "    \n",
    "        ax.plot(ticker_data[startdate:enddate][['Close','10ma','20ma']])\n",
    "        ax.plot(ticker_data[startdate:enddate][['+2sigma','-2sigma']],color='black')\n",
    "        #ax.plot(ticker_data[startdate:enddate][['High','Low']],color='g')\n",
    "        \n",
    "        ax.legend(ticker_data[['Close','10ma','20ma','+2sigma','-2sigma']])\n",
    "        \n",
    "        ax2.plot(ticker_data[startdate:enddate]['Vol_mavg'])\n",
    "        ax2.bar(ticker_data[startdate:enddate].index,ticker_data[startdate:enddate]['Volume'],color='black')\n",
    "        \n",
    "        ax3.set_ylabel('% Daily Return ')\n",
    "        ax3.bar(ticker_data[startdate:enddate].index,ticker_data[startdate:enddate]['Daily_Return'],color='black')\n",
    "        ax3.plot(ticker_data[startdate:enddate]['Daily_Return_ma'],color='r')\n",
    "        ax3.legend()\n",
    "\n",
    "        \n",
    "        plt.savefig(r'C:\\Users\\Crystal\\Desktop\\datasets\\stocks\\{} Stock Data.pdf'.format(ticker))\n",
    "        \n",
    "        \n"
   ]
  },
  {
   "cell_type": "code",
   "execution_count": 309,
   "metadata": {
    "collapsed": true
   },
   "outputs": [],
   "source": [
    "def price_over_10(ticker,ticker_data,start_date,end_date):\n",
    "    \n",
    "    ma_check=ticker_data['Close'].iloc[0]-ticker_data['10ma'].iloc[0]\n",
    "    DRMA=ticker_data['Daily_Return_ma'].iloc[0]\n",
    "        \n",
    "    #print(ticker_data['Close'].iloc[0]-ticker_data['10ma'].iloc[0])\n",
    "      \n",
    "    ma_check_previous= ticker_data['Close'].iloc[1]-ticker_data['10ma'].iloc[1]\n",
    "        \n",
    "    if (ma_check>0) and (ma_check_previous<0) and (DRMA>0):\n",
    "        print('{} meets the price _over_10 requirement. \\n'.format(ticker))\n",
    "        in_the_trade(ticker,ticker_data)\n",
    "        plot_the_stock(ticker,ticker_data,start_date,end_date)\n",
    "    elif(ma_check>0) and (ma_check_previous>0):\n",
    "        #print('{} is already over the 10sma \\n'.format(ticker))\n",
    "        pass\n",
    "    elif (ma_check<0):\n",
    "        #print('price _over_10 requirement is not met for {} \\n'.format(ticker))\n",
    "        pass"
   ]
  },
  {
   "cell_type": "code",
   "execution_count": 310,
   "metadata": {
    "collapsed": true
   },
   "outputs": [],
   "source": [
    "def in_the_trade(ticker,ticker_data,target_pct=.025,stop_loss_pct=.025):\n",
    "    \n",
    "    Location=(r'C:\\Users\\Crystal\\Desktop\\datasets\\sandp500\\P_over_10')\n",
    "    ticker_data['Target']=ticker_data.Close.iloc[0]+(ticker_data.Close.iloc[0]*target_pct)\n",
    "    ticker_data['Stop_Loss']=ticker_data.Close.iloc[0]-(ticker_data.Close.iloc[0]*stop_loss_pct)\n",
    "    ticker_data['Symbol']=ticker\n",
    "    \n",
    "    trade_entry=ticker_data.head(1)\n",
    "    trade_entry.to_csv(Location+'\\{}_trade_watch.csv'.format(ticker))\n",
    "    \n",
    "    with open(Location+'\\P10_trade_watch\\P10_tickers.csv','a',newline='') as me_file:\n",
    "        daywriter=csv.writer(me_file)\n",
    "        daywriter.writerow([ticker])\n",
    "    me_file.close\n",
    "    \n",
    "    \n",
    "    #print(trade_entry)"
   ]
  },
  {
   "cell_type": "code",
   "execution_count": 311,
   "metadata": {
    "collapsed": true
   },
   "outputs": [],
   "source": [
    "def trade_watch():\n",
    "    pass"
   ]
  },
  {
   "cell_type": "code",
   "execution_count": 312,
   "metadata": {
    "collapsed": true
   },
   "outputs": [],
   "source": [
    "def list_of_stocks():\n",
    "    my_stocks=[]\n",
    "    Location_1=(r'C:\\Users\\Crystal\\Desktop\\datasets\\sandp500\\SP500_tickers\\All_SP500.csv')\n",
    "    with open(Location_1,'r') as get_tickers:\n",
    "        dayreader=csv.reader(get_tickers)\n",
    "        #print (dayreader)\n",
    "        for the_symbols in dayreader:\n",
    "            my_stocks.append(the_symbols[0])     \n",
    "    get_tickers.close\n",
    "    \n",
    "    return my_stocks"
   ]
  },
  {
   "cell_type": "code",
   "execution_count": 313,
   "metadata": {
    "collapsed": true
   },
   "outputs": [],
   "source": [
    "def consolidate_data():\n",
    "    #with open(Location+'\\P10_trade_watch\\P10_watch.csv','a',newline='') as me_file:\n",
    "        #daywriter=csv.writer(me_file)\n",
    "        #daywriter.writerow([trade_entry])\n",
    "    #me_file.close\n",
    "    pass"
   ]
  },
  {
   "cell_type": "code",
   "execution_count": 314,
   "metadata": {
    "collapsed": true
   },
   "outputs": [],
   "source": [
    "if __name__ == \"__main__\":\n",
    "    startTime=time.time()\n",
    "    # stocks=list_of_stocks()\n",
    "    #print(stocks)\n",
    "    stocks=['cron','apha']\n",
    "    stocks.sort()\n",
    "    start_date=dt.datetime(2018,10,1)\n",
    "    end_date=dt.date.today()\n",
    "    source_of_data='remote'"
   ]
  },
  {
   "cell_type": "code",
   "execution_count": 315,
   "metadata": {
    "scrolled": false
   },
   "outputs": [
    {
     "name": "stdout",
     "output_type": "stream",
     "text": [
      "\n",
      " apha\n",
      "             Open   High    Low  Close    Volume\n",
      "date                                            \n",
      "2019-01-29   7.43   7.58   7.16   7.27   4103365\n",
      "2019-01-30   7.40   7.75   7.27   7.66   5258811\n",
      "2019-01-31   7.76   8.93   7.67   8.74  13814621\n",
      "2019-02-01   9.05  10.00   8.90   9.62  28688793\n",
      "2019-02-04  10.10  10.95  10.00  10.84  29816137\n",
      "\n",
      " cron\n",
      "             Open   High      Low  Close    Volume\n",
      "date                                              \n",
      "2019-01-29  18.48  19.48  17.3300  18.15  42470992\n",
      "2019-01-30  18.14  19.20  17.6703  18.43  22137670\n",
      "2019-01-31  18.65  20.35  18.3800  19.68  29701695\n",
      "2019-02-01  20.25  21.79  20.1000  20.81  48676298\n",
      "2019-02-04  21.82  25.10  21.3000  23.25  67620336\n",
      "\n",
      " apha\n",
      "             Open     High      Low  Close   Volume      10ma       20ma  \\\n",
      "date                                                                       \n",
      "2018-11-14  10.01  10.2400   9.2600   9.54  3248608  11.78000  11.903775   \n",
      "2018-11-13  11.25  11.4600  10.2400  10.30  3200123  12.01938  12.172665   \n",
      "2018-11-12  12.44  12.5000  11.2133  11.28  2386062  12.00238  12.379165   \n",
      "2018-11-09  12.36  12.6354  11.7801  12.31  4300045  11.85038  12.582665   \n",
      "2018-11-08  13.08  13.1400  12.5300  12.61  2661558  11.79838  12.699665   \n",
      "\n",
      "              +2sigma   -2sigma    Vol_mavg  Daily_Return  Daily_Return_ma  \n",
      "date                                                                        \n",
      "2018-11-14  14.554320  9.253230  2771479.80     -7.378641        -2.090814  \n",
      "2018-11-13  14.903444  9.441886  2790343.10     -8.687943         0.427702  \n",
      "2018-11-12  15.138162  9.620168  2807735.50     -8.367181         1.675594  \n",
      "2018-11-09  15.589561  9.575769  2813916.45     -2.379064         0.790514  \n",
      "2018-11-08  15.840986  9.558344  2736033.55     -4.614221         0.544159  \n",
      "\n",
      " cron\n",
      "            Open  High   Low  Close   Volume   10ma    20ma    +2sigma  \\\n",
      "date                                                                     \n",
      "2018-11-14  8.00  8.23  7.52   8.12  6759517  8.524  8.3660  10.254440   \n",
      "2018-11-13  7.75  8.55  7.55   8.31  8481215  8.454  8.4925  10.633605   \n",
      "2018-11-12  8.75  8.84  7.99   8.45  8335840  8.328  8.6530  11.182523   \n",
      "2018-11-09  8.80  8.93  8.41   8.55  5777294  8.163  8.8175  11.695364   \n",
      "2018-11-08  9.50  9.58  8.82   8.94  9214991  8.086  8.8830  11.794661   \n",
      "\n",
      "             -2sigma     Vol_mavg  Daily_Return  Daily_Return_ma  \n",
      "date                                                              \n",
      "2018-11-14  6.477560  10279768.30     -2.286402         1.055727  \n",
      "2018-11-13  6.351395  10891767.75     -1.656805         1.809190  \n",
      "2018-11-12  6.123477  13146248.50     -1.169591         2.342518  \n",
      "2018-11-09  5.939636  14050077.40     -4.362416         1.199837  \n",
      "2018-11-08  5.971339  14186652.40     -8.868502         1.229173  \n",
      "Duration : 4.019229888916016  seconds\n"
     ]
    }
   ],
   "source": [
    "    for i in stocks:\n",
    "        get_stocks(i,start_date,end_date,source_of_data)\n",
    "        location=r'C:\\Users\\Crystal\\Desktop\\datasets\\stocks\\{}_dataset.csv'.format(i.upper())\n",
    "        the_stock_data=pd.read_csv(location,parse_dates=True,index_col='date')\n",
    "        the_stock_data.columns=the_stock_data.columns.str.title()\n",
    "#         the_stock_data=pd.read_csv(location)\n",
    "        print('\\n',i)\n",
    "        print(the_stock_data.tail())\n",
    "\n",
    "    for k in stocks:\n",
    "        Location=r'C:\\Users\\Crystal\\Desktop\\datasets\\stocks\\{}_dataset.csv'.format(k.upper())\n",
    "        stock_reviewed=pd.read_csv(Location,parse_dates=True,index_col='date')\n",
    "        stock_reviewed.columns=stock_reviewed.columns.str.title()\n",
    "        stock_with_indicators=calculate_indicators(k.upper(),stock_reviewed)\n",
    "#         price_over_10(k.upper(),stock_with_indicators,start_date,end_date)\n",
    "        print('\\n',k)\n",
    "        print(stock_with_indicators.tail())\n",
    "        \n",
    "        plot_the_stock(k.upper(),stock_with_indicators,start_date,end_date)\n",
    "\n",
    "    endTime=time.time()\n",
    "\n",
    "    print('Duration :',endTime-startTime,' seconds')"
   ]
  },
  {
   "cell_type": "code",
   "execution_count": null,
   "metadata": {
    "collapsed": true
   },
   "outputs": [],
   "source": [
    "    "
   ]
  },
  {
   "cell_type": "code",
   "execution_count": null,
   "metadata": {
    "collapsed": true
   },
   "outputs": [],
   "source": []
  }
 ],
 "metadata": {
  "kernelspec": {
   "display_name": "Python 3",
   "language": "python",
   "name": "python3"
  },
  "language_info": {
   "codemirror_mode": {
    "name": "ipython",
    "version": 3
   },
   "file_extension": ".py",
   "mimetype": "text/x-python",
   "name": "python",
   "nbconvert_exporter": "python",
   "pygments_lexer": "ipython3",
   "version": "3.6.3"
  }
 },
 "nbformat": 4,
 "nbformat_minor": 2
}
