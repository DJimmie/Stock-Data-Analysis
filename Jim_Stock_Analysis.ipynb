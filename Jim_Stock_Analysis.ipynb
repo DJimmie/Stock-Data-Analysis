{
 "cells": [
  {
   "cell_type": "code",
   "execution_count": 165,
   "metadata": {
    "collapsed": true
   },
   "outputs": [],
   "source": [
    "import pandas as pd\n",
    "import pandas_datareader\n",
    "import pandas.plotting\n",
    "from pandas.plotting import scatter_matrix\n",
    "from pandas.plotting import table\n",
    "import pandas_datareader.data as web\n",
    "# from pandas_datareader import data, wb\n",
    "import numpy as np\n",
    "import matplotlib.pyplot as plt\n",
    "#import pandas.DateOffset\n",
    "import datetime as dt\n",
    "import time\n",
    "import csv"
   ]
  },
  {
   "cell_type": "code",
   "execution_count": 143,
   "metadata": {},
   "outputs": [
    {
     "data": {
      "text/plain": [
       "'0.7.0'"
      ]
     },
     "execution_count": 143,
     "metadata": {},
     "output_type": "execute_result"
    }
   ],
   "source": [
    "pandas_datareader.__version__"
   ]
  },
  {
   "cell_type": "code",
   "execution_count": 144,
   "metadata": {},
   "outputs": [
    {
     "data": {
      "text/plain": [
       "'0.24.0'"
      ]
     },
     "execution_count": 144,
     "metadata": {},
     "output_type": "execute_result"
    }
   ],
   "source": [
    "pd.__version__"
   ]
  },
  {
   "cell_type": "code",
   "execution_count": 145,
   "metadata": {
    "collapsed": true
   },
   "outputs": [],
   "source": [
    "def get_stocks (ticker, startdate,enddate,data_source):\n",
    "    #data sources--------------------------------------------------------------\n",
    "    if (data_source=='local'):\n",
    "        location=r'C:\\Users\\Crystal\\Desktop\\datasets\\sandp500\\individual_stocks_5yr\\{}_data.csv'.format(ticker.upper())\n",
    "        the_data=pd.read_csv(location,parse_dates=True,index_col='Date')\n",
    "        the_data.to_csv(r'C:\\Users\\Crystal\\Desktop\\datasets\\stocks\\{}_dataset.csv'.format(ticker.upper()))\n",
    "    elif (data_source=='remote'):\n",
    "        #the_data=pdr.get_data_yahoo(ticker.upper(),retry_count=3,start=startdate,end=enddate)\n",
    "#         the_data=web.DataReader(ticker.upper(),'yahoo',retry_count=3,start=startdate,end=enddate)\n",
    "#         the_data=web.DataReader(ticker.upper(),'google',retry_count=3,start=startdate,end=enddate)\n",
    "#         the_data=web.DataReader(ticker.upper(),'morningstar',retry_count=3,start=startdate,end=enddate)\n",
    "        the_data=web.DataReader(ticker.upper(),'iex',retry_count=3,start=startdate,end=enddate)\n",
    "\n",
    "        the_data.to_csv(r'C:\\Users\\Crystal\\Desktop\\datasets\\stocks\\{}_dataset.csv'.format(ticker.upper()))\n",
    "    \n",
    "    #print (ticker.upper())\n",
    "    #print(the_data)\n",
    "    #return (the_data)\n",
    "        \n",
    "        \n",
    "        "
   ]
  },
  {
   "cell_type": "code",
   "execution_count": 146,
   "metadata": {
    "collapsed": true
   },
   "outputs": [],
   "source": [
    "def calculate_indicators (ticker, ticker_data):\n",
    "    #print('I have the {} data.'.format(ticker))\n",
    "    #print(ticker_data.head())\n",
    "    \n",
    "    ticker_data['10ma']=ticker_data['Close'].rolling(window=10).mean()\n",
    "    ticker_data.dropna(inplace=True)\n",
    "    ticker_data['20ma']=ticker_data['Close'].rolling(window=20).mean()\n",
    "    ticker_data['+2sigma']=ticker_data['20ma']+((ticker_data['Close'].rolling(window=20).std())*2)\n",
    "    ticker_data['-2sigma']=ticker_data['20ma']-((ticker_data['Close'].rolling(window=20).std())*2)\n",
    "    ticker_data['Vol_mavg']=ticker_data['Volume'].rolling(window=20).mean()\n",
    "    ticker_data['Daily_Return']=((ticker_data.Close-ticker_data.Close.shift(1))/ticker_data.Close.shift(1))*100\n",
    "    ticker_data['Daily_Return_ma']=ticker_data['Daily_Return'].rolling(window=10).mean()\n",
    "    ticker_data.dropna(inplace=True)\n",
    "    \n",
    "    ticker_data.sort_index(ascending=False,inplace=True)\n",
    "    \n",
    "    #print(ticker_data.head())\n",
    "    #print(ticker_data.info())\n",
    "    return ticker_data"
   ]
  },
  {
   "cell_type": "code",
   "execution_count": 147,
   "metadata": {
    "collapsed": true
   },
   "outputs": [],
   "source": [
    "    def plot_the_stock(ticker,ticker_data,startdate,enddate):\n",
    "        #print('Ready to plot')\n",
    "        \n",
    "        ticker_data.sort_index(ascending=True,inplace=True)\n",
    "        \n",
    "        fig=plt.figure(figsize=(15,15))\n",
    "        fig.suptitle('{} Plot'.format(ticker))\n",
    " \n",
    "        ax=fig.add_subplot(311)\n",
    "        #ax1=fig.add_subplot(412)\n",
    "        ax2=fig.add_subplot(312)\n",
    "        ax3=fig.add_subplot(313)\n",
    "\n",
    "        ax.set_xlabel('Date')\n",
    "        ax.set_ylabel('Price')\n",
    " \n",
    "        ax.set_title(label='{} Stock Data'.format(ticker),loc='left')\n",
    "    \n",
    "        ax.plot(ticker_data[startdate:enddate][['Close','10ma','20ma']])\n",
    "        ax.plot(ticker_data[startdate:enddate][['+2sigma','-2sigma']],color='black')\n",
    "        #ax.plot(ticker_data[startdate:enddate][['High','Low']],color='g')\n",
    "        \n",
    "        ax.legend(ticker_data[['Close','10ma','20ma','+2sigma','-2sigma']])\n",
    "        \n",
    "        ax2.plot(ticker_data[startdate:enddate]['Vol_mavg'])\n",
    "        ax2.bar(ticker_data[startdate:enddate].index,ticker_data[startdate:enddate]['Volume'],color='black')\n",
    "        \n",
    "        ax3.set_ylabel('% Daily Return ')\n",
    "        ax3.bar(ticker_data[startdate:enddate].index,ticker_data[startdate:enddate]['Daily_Return'],color='black')\n",
    "        ax3.plot(ticker_data[startdate:enddate]['Daily_Return_ma'],color='r')\n",
    "        ax3.legend()\n",
    "\n",
    "        \n",
    "        plt.savefig(r'C:\\Users\\Crystal\\Desktop\\datasets\\stocks\\{} Stock Data.pdf'.format(ticker))\n",
    "        \n",
    "        \n"
   ]
  },
  {
   "cell_type": "code",
   "execution_count": 148,
   "metadata": {
    "collapsed": true
   },
   "outputs": [],
   "source": [
    "def price_over_10(ticker,ticker_data,start_date,end_date):\n",
    "    \n",
    "    ma_check=ticker_data['Close'].iloc[0]-ticker_data['10ma'].iloc[0]\n",
    "    DRMA=ticker_data['Daily_Return_ma'].iloc[0]\n",
    "        \n",
    "    #print(ticker_data['Close'].iloc[0]-ticker_data['10ma'].iloc[0])\n",
    "      \n",
    "    ma_check_previous= ticker_data['Close'].iloc[1]-ticker_data['10ma'].iloc[1]\n",
    "        \n",
    "    if (ma_check>0) and (ma_check_previous<0) and (DRMA>0):\n",
    "        print('{} meets the price _over_10 requirement. \\n'.format(ticker))\n",
    "        in_the_trade(ticker,ticker_data)\n",
    "        plot_the_stock(ticker,ticker_data,start_date,end_date)\n",
    "    elif(ma_check>0) and (ma_check_previous>0):\n",
    "        #print('{} is already over the 10sma \\n'.format(ticker))\n",
    "        pass\n",
    "    elif (ma_check<0):\n",
    "        #print('price _over_10 requirement is not met for {} \\n'.format(ticker))\n",
    "        pass"
   ]
  },
  {
   "cell_type": "code",
   "execution_count": 149,
   "metadata": {
    "collapsed": true
   },
   "outputs": [],
   "source": [
    "def in_the_trade(ticker,ticker_data,target_pct=.025,stop_loss_pct=.025):\n",
    "    \n",
    "    Location=(r'C:\\Users\\Crystal\\Desktop\\datasets\\sandp500\\P_over_10')\n",
    "    ticker_data['Target']=ticker_data.Close.iloc[0]+(ticker_data.Close.iloc[0]*target_pct)\n",
    "    ticker_data['Stop_Loss']=ticker_data.Close.iloc[0]-(ticker_data.Close.iloc[0]*stop_loss_pct)\n",
    "    ticker_data['Symbol']=ticker\n",
    "    \n",
    "    trade_entry=ticker_data.head(1)\n",
    "    trade_entry.to_csv(Location+'\\{}_trade_watch.csv'.format(ticker))\n",
    "    \n",
    "    with open(Location+'\\P10_trade_watch\\P10_tickers.csv','a',newline='') as me_file:\n",
    "        daywriter=csv.writer(me_file)\n",
    "        daywriter.writerow([ticker])\n",
    "    me_file.close\n",
    "    \n",
    "    \n",
    "    #print(trade_entry)"
   ]
  },
  {
   "cell_type": "code",
   "execution_count": 150,
   "metadata": {
    "collapsed": true
   },
   "outputs": [],
   "source": [
    "def trade_watch():\n",
    "    pass"
   ]
  },
  {
   "cell_type": "code",
   "execution_count": 151,
   "metadata": {
    "collapsed": true
   },
   "outputs": [],
   "source": [
    "def list_of_stocks():\n",
    "    my_stocks=[]\n",
    "    Location_1=(r'C:\\Users\\Crystal\\Desktop\\datasets\\sandp500\\SP500_tickers\\All_SP500.csv')\n",
    "    with open(Location_1,'r') as get_tickers:\n",
    "        dayreader=csv.reader(get_tickers)\n",
    "        #print (dayreader)\n",
    "        for the_symbols in dayreader:\n",
    "            my_stocks.append(the_symbols[0])     \n",
    "    get_tickers.close\n",
    "    \n",
    "    return my_stocks"
   ]
  },
  {
   "cell_type": "code",
   "execution_count": 152,
   "metadata": {
    "collapsed": true
   },
   "outputs": [],
   "source": [
    "def consolidate_data():\n",
    "    #with open(Location+'\\P10_trade_watch\\P10_watch.csv','a',newline='') as me_file:\n",
    "        #daywriter=csv.writer(me_file)\n",
    "        #daywriter.writerow([trade_entry])\n",
    "    #me_file.close\n",
    "    pass"
   ]
  },
  {
   "cell_type": "code",
   "execution_count": 153,
   "metadata": {
    "collapsed": true
   },
   "outputs": [],
   "source": [
    "if __name__ == \"__main__\":\n",
    "    startTime=time.time()\n",
    "    # stocks=list_of_stocks()\n",
    "    #print(stocks)\n",
    "    stocks=['cron','apha']\n",
    "    stocks.sort()\n",
    "    start_date=dt.datetime(2018,1,1)\n",
    "    end_date=dt.date.today()\n",
    "    source_of_data='remote'"
   ]
  },
  {
   "cell_type": "code",
   "execution_count": 154,
   "metadata": {
    "scrolled": false
   },
   "outputs": [
    {
     "name": "stdout",
     "output_type": "stream",
     "text": [
      "\n",
      " apha\n",
      "             Open   High    Low  Close    Volume\n",
      "date                                            \n",
      "2019-01-30   7.40   7.75   7.27   7.66   5258811\n",
      "2019-01-31   7.76   8.93   7.67   8.74  13814621\n",
      "2019-02-01   9.05  10.00   8.90   9.62  28688793\n",
      "2019-02-04  10.10  10.95  10.00  10.84  29816137\n",
      "2019-02-05  10.86  10.89   9.25  10.71  23139329\n",
      "\n",
      " cron\n",
      "             Open   High      Low  Close    Volume\n",
      "date                                              \n",
      "2019-01-30  18.14  19.20  17.6703  18.43  22137670\n",
      "2019-01-31  18.65  20.35  18.3800  19.68  29701695\n",
      "2019-02-01  20.25  21.79  20.1000  20.81  48676298\n",
      "2019-02-04  21.82  25.10  21.3000  23.25  67620336\n",
      "2019-02-05  22.35  23.96  20.5600  21.83  55485179\n",
      "\n",
      " apha\n",
      "               Open     High      Low    Close  Volume      10ma       20ma  \\\n",
      "date                                                                          \n",
      "2018-02-16  11.3719  11.6984  10.9604  11.1200  806371  12.31608  13.742750   \n",
      "2018-02-15  12.5600  12.6600  11.8300  11.9456  730291  12.31470  14.073250   \n",
      "2018-02-14  12.4950  12.5500  12.2100  12.4014  361032  12.38414  14.357105   \n",
      "2018-02-13  12.4550  12.5890  12.1473  12.3500  491219  12.57410  14.622535   \n",
      "2018-02-12  13.0400  13.2830  12.3808  12.4891  531488  12.77760  14.877125   \n",
      "\n",
      "              +2sigma    -2sigma    Vol_mavg  Daily_Return  Daily_Return_ma  \n",
      "date                                                                         \n",
      "2018-02-16  17.982413   9.503087  1193765.30     -6.911331         0.193973  \n",
      "2018-02-15  18.479341   9.667159  1184294.25     -3.675391        -0.328343  \n",
      "2018-02-14  18.914921   9.799289  1180264.50      0.416194        -1.122261  \n",
      "2018-02-13  19.317057   9.928013  1223117.30     -1.113771        -1.222275  \n",
      "2018-02-12  19.604883  10.149367  1322790.80     -2.596319        -1.770413  \n",
      "\n",
      " cron\n",
      "             Open    High     Low   Close  Volume     10ma      20ma  \\\n",
      "date                                                                   \n",
      "2018-02-16  7.400  7.5634  7.1800  7.2200  312640  7.32583  7.519380   \n",
      "2018-02-15  7.840  7.8840  7.5448  7.6837  336239  7.15511  7.556380   \n",
      "2018-02-14  7.500  8.0000  7.2945  7.9900  453683  7.03674  7.577195   \n",
      "2018-02-13  7.455  7.5400  7.1500  7.4400  293113  6.97304  7.596025   \n",
      "2018-02-12  7.580  7.6190  7.2932  7.3686  363342  6.91094  7.636450   \n",
      "\n",
      "             +2sigma   -2sigma   Vol_mavg  Daily_Return  Daily_Return_ma  \n",
      "date                                                                      \n",
      "2018-02-16  9.373619  5.665141  791450.30     -6.034853         3.108398  \n",
      "2018-02-15  9.414993  5.697767  806284.65     -3.833542         2.193114  \n",
      "2018-02-14  9.451073  5.703317  806447.55      7.392473         1.416398  \n",
      "2018-02-13  9.494773  5.697277  805444.80      0.968976         1.460256  \n",
      "2018-02-12  9.555529  5.717371  874268.60      0.389646         0.412166  \n",
      "Duration : 1.0640606880187988  seconds\n"
     ]
    }
   ],
   "source": [
    "    for i in stocks:\n",
    "        get_stocks(i,start_date,end_date,source_of_data)\n",
    "        location=r'C:\\Users\\Crystal\\Desktop\\datasets\\stocks\\{}_dataset.csv'.format(i.upper())\n",
    "        the_stock_data=pd.read_csv(location,parse_dates=True,index_col='date')\n",
    "        the_stock_data.columns=the_stock_data.columns.str.title()\n",
    "#         the_stock_data=pd.read_csv(location)\n",
    "        print('\\n',i)\n",
    "        print(the_stock_data.tail())\n",
    "\n",
    "    for k in stocks:\n",
    "        Location=r'C:\\Users\\Crystal\\Desktop\\datasets\\stocks\\{}_dataset.csv'.format(k.upper())\n",
    "        stock_reviewed=pd.read_csv(Location,parse_dates=True,index_col='date')\n",
    "        stock_reviewed.columns=stock_reviewed.columns.str.title()\n",
    "        stock_with_indicators=calculate_indicators(k.upper(),stock_reviewed)\n",
    "#         price_over_10(k.upper(),stock_with_indicators,start_date,end_date)\n",
    "        print('\\n',k)\n",
    "        print(stock_with_indicators.tail())\n",
    "        \n",
    "#         plot_the_stock(k.upper(),stock_with_indicators,start_date,end_date)\n",
    "\n",
    "    endTime=time.time()\n",
    "\n",
    "    print('Duration :',endTime-startTime,' seconds')"
   ]
  },
  {
   "cell_type": "code",
   "execution_count": 155,
   "metadata": {},
   "outputs": [
    {
     "data": {
      "text/html": [
       "<div>\n",
       "<style scoped>\n",
       "    .dataframe tbody tr th:only-of-type {\n",
       "        vertical-align: middle;\n",
       "    }\n",
       "\n",
       "    .dataframe tbody tr th {\n",
       "        vertical-align: top;\n",
       "    }\n",
       "\n",
       "    .dataframe thead th {\n",
       "        text-align: right;\n",
       "    }\n",
       "</style>\n",
       "<table border=\"1\" class=\"dataframe\">\n",
       "  <thead>\n",
       "    <tr style=\"text-align: right;\">\n",
       "      <th></th>\n",
       "      <th>Open</th>\n",
       "      <th>High</th>\n",
       "      <th>Low</th>\n",
       "      <th>Close</th>\n",
       "      <th>Volume</th>\n",
       "    </tr>\n",
       "    <tr>\n",
       "      <th>date</th>\n",
       "      <th></th>\n",
       "      <th></th>\n",
       "      <th></th>\n",
       "      <th></th>\n",
       "      <th></th>\n",
       "    </tr>\n",
       "  </thead>\n",
       "  <tbody>\n",
       "    <tr>\n",
       "      <th>2018-01-02</th>\n",
       "      <td>7.7411</td>\n",
       "      <td>8.2460</td>\n",
       "      <td>7.0900</td>\n",
       "      <td>8.0564</td>\n",
       "      <td>1401112</td>\n",
       "    </tr>\n",
       "    <tr>\n",
       "      <th>2018-01-03</th>\n",
       "      <td>8.5000</td>\n",
       "      <td>8.9100</td>\n",
       "      <td>7.5896</td>\n",
       "      <td>8.5974</td>\n",
       "      <td>1503683</td>\n",
       "    </tr>\n",
       "    <tr>\n",
       "      <th>2018-01-04</th>\n",
       "      <td>8.7000</td>\n",
       "      <td>8.7000</td>\n",
       "      <td>7.2727</td>\n",
       "      <td>7.7489</td>\n",
       "      <td>1910612</td>\n",
       "    </tr>\n",
       "    <tr>\n",
       "      <th>2018-01-05</th>\n",
       "      <td>7.3414</td>\n",
       "      <td>8.5065</td>\n",
       "      <td>7.0600</td>\n",
       "      <td>8.4800</td>\n",
       "      <td>1189225</td>\n",
       "    </tr>\n",
       "    <tr>\n",
       "      <th>2018-01-08</th>\n",
       "      <td>9.0400</td>\n",
       "      <td>11.0783</td>\n",
       "      <td>8.8420</td>\n",
       "      <td>10.9500</td>\n",
       "      <td>2104036</td>\n",
       "    </tr>\n",
       "  </tbody>\n",
       "</table>\n",
       "</div>"
      ],
      "text/plain": [
       "              Open     High     Low    Close   Volume\n",
       "date                                                 \n",
       "2018-01-02  7.7411   8.2460  7.0900   8.0564  1401112\n",
       "2018-01-03  8.5000   8.9100  7.5896   8.5974  1503683\n",
       "2018-01-04  8.7000   8.7000  7.2727   7.7489  1910612\n",
       "2018-01-05  7.3414   8.5065  7.0600   8.4800  1189225\n",
       "2018-01-08  9.0400  11.0783  8.8420  10.9500  2104036"
      ]
     },
     "execution_count": 155,
     "metadata": {},
     "output_type": "execute_result"
    }
   ],
   "source": [
    "the_stock_data.head()"
   ]
  },
  {
   "cell_type": "code",
   "execution_count": 156,
   "metadata": {},
   "outputs": [
    {
     "data": {
      "text/html": [
       "<div>\n",
       "<style scoped>\n",
       "    .dataframe tbody tr th:only-of-type {\n",
       "        vertical-align: middle;\n",
       "    }\n",
       "\n",
       "    .dataframe tbody tr th {\n",
       "        vertical-align: top;\n",
       "    }\n",
       "\n",
       "    .dataframe thead th {\n",
       "        text-align: right;\n",
       "    }\n",
       "</style>\n",
       "<table border=\"1\" class=\"dataframe\">\n",
       "  <thead>\n",
       "    <tr style=\"text-align: right;\">\n",
       "      <th></th>\n",
       "      <th>Open</th>\n",
       "      <th>High</th>\n",
       "      <th>Low</th>\n",
       "      <th>Close</th>\n",
       "      <th>Volume</th>\n",
       "    </tr>\n",
       "    <tr>\n",
       "      <th>date</th>\n",
       "      <th></th>\n",
       "      <th></th>\n",
       "      <th></th>\n",
       "      <th></th>\n",
       "      <th></th>\n",
       "    </tr>\n",
       "  </thead>\n",
       "  <tbody>\n",
       "    <tr>\n",
       "      <th>2019-01-30</th>\n",
       "      <td>18.14</td>\n",
       "      <td>19.20</td>\n",
       "      <td>17.6703</td>\n",
       "      <td>18.43</td>\n",
       "      <td>22137670</td>\n",
       "    </tr>\n",
       "    <tr>\n",
       "      <th>2019-01-31</th>\n",
       "      <td>18.65</td>\n",
       "      <td>20.35</td>\n",
       "      <td>18.3800</td>\n",
       "      <td>19.68</td>\n",
       "      <td>29701695</td>\n",
       "    </tr>\n",
       "    <tr>\n",
       "      <th>2019-02-01</th>\n",
       "      <td>20.25</td>\n",
       "      <td>21.79</td>\n",
       "      <td>20.1000</td>\n",
       "      <td>20.81</td>\n",
       "      <td>48676298</td>\n",
       "    </tr>\n",
       "    <tr>\n",
       "      <th>2019-02-04</th>\n",
       "      <td>21.82</td>\n",
       "      <td>25.10</td>\n",
       "      <td>21.3000</td>\n",
       "      <td>23.25</td>\n",
       "      <td>67620336</td>\n",
       "    </tr>\n",
       "    <tr>\n",
       "      <th>2019-02-05</th>\n",
       "      <td>22.35</td>\n",
       "      <td>23.96</td>\n",
       "      <td>20.5600</td>\n",
       "      <td>21.83</td>\n",
       "      <td>55485179</td>\n",
       "    </tr>\n",
       "  </tbody>\n",
       "</table>\n",
       "</div>"
      ],
      "text/plain": [
       "             Open   High      Low  Close    Volume\n",
       "date                                              \n",
       "2019-01-30  18.14  19.20  17.6703  18.43  22137670\n",
       "2019-01-31  18.65  20.35  18.3800  19.68  29701695\n",
       "2019-02-01  20.25  21.79  20.1000  20.81  48676298\n",
       "2019-02-04  21.82  25.10  21.3000  23.25  67620336\n",
       "2019-02-05  22.35  23.96  20.5600  21.83  55485179"
      ]
     },
     "execution_count": 156,
     "metadata": {},
     "output_type": "execute_result"
    }
   ],
   "source": [
    "the_stock_data.tail()"
   ]
  },
  {
   "cell_type": "code",
   "execution_count": 157,
   "metadata": {},
   "outputs": [
    {
     "data": {
      "image/png": "[encoded data removed]",
      "text/plain": [
       "<matplotlib.figure.Figure at 0xf272390>"
      ]
     },
     "metadata": {},
     "output_type": "display_data"
    }
   ],
   "source": [
    "the_stock_data.Close.hist()\n",
    "\n",
    "plt.show()"
   ]
  },
  {
   "cell_type": "code",
   "execution_count": 158,
   "metadata": {},
   "outputs": [
    {
     "data": {
      "image/png": "[encoded data removed]",
      "text/plain": [
       "<matplotlib.figure.Figure at 0xf32dd30>"
      ]
     },
     "metadata": {},
     "output_type": "display_data"
    }
   ],
   "source": [
    "the_stock_data.Volume.hist()\n",
    "\n",
    "plt.show()"
   ]
  },
  {
   "cell_type": "code",
   "execution_count": 159,
   "metadata": {},
   "outputs": [
    {
     "data": {
      "image/png": "[encoded data removed]",
      "text/plain": [
       "<matplotlib.figure.Figure at 0xf3508d0>"
      ]
     },
     "metadata": {},
     "output_type": "display_data"
    }
   ],
   "source": [
    "the_stock_data.boxplot('Close')\n",
    "plt.show()"
   ]
  },
  {
   "cell_type": "code",
   "execution_count": 160,
   "metadata": {},
   "outputs": [
    {
     "data": {
      "image/png": "[encoded data removed]",
      "text/plain": [
       "<matplotlib.figure.Figure at 0xf7e1da0>"
      ]
     },
     "metadata": {},
     "output_type": "display_data"
    }
   ],
   "source": [
    "the_stock_data.boxplot('Volume')\n",
    "plt.show()"
   ]
  },
  {
   "cell_type": "code",
   "execution_count": 161,
   "metadata": {},
   "outputs": [
    {
     "data": {
      "image/png": "[encoded data removed]",
      "text/plain": [
       "<matplotlib.figure.Figure at 0xf887710>"
      ]
     },
     "metadata": {},
     "output_type": "display_data"
    }
   ],
   "source": [
    "the_stock_data[['Open','High','Low','Close']].boxplot()\n",
    "plt.show()"
   ]
  },
  {
   "cell_type": "code",
   "execution_count": 162,
   "metadata": {},
   "outputs": [
    {
     "data": {
      "image/png": "[encoded data removed]",
      "text/plain": [
       "<matplotlib.figure.Figure at 0xf83dba8>"
      ]
     },
     "metadata": {},
     "output_type": "display_data"
    }
   ],
   "source": [
    "color = {'boxes': 'DarkGreen', 'whiskers': 'DarkOrange','medians': 'DarkBlue', 'caps': 'Gray'}\n",
    "the_stock_data.plot.box(color=color, sym='r+')\n",
    "plt.show()\n"
   ]
  },
  {
   "cell_type": "code",
   "execution_count": null,
   "metadata": {
    "collapsed": true
   },
   "outputs": [],
   "source": []
  },
  {
   "cell_type": "code",
   "execution_count": 164,
   "metadata": {},
   "outputs": [
    {
     "data": {
      "image/png": "[encoded data removed]",
      "text/plain": [
       "<matplotlib.figure.Figure at 0xfb53fd0>"
      ]
     },
     "metadata": {},
     "output_type": "display_data"
    }
   ],
   "source": [
    "scatter_matrix(the_stock_data,alpha=0.2, figsize=(10, 6), diagonal='kde')\n",
    "plt.show()"
   ]
  },
  {
   "cell_type": "code",
   "execution_count": 167,
   "metadata": {},
   "outputs": [
    {
     "ename": "IndexError",
     "evalue": "list index out of range",
     "output_type": "error",
     "traceback": [
      "\u001b[1;31m---------------------------------------------------------------------------\u001b[0m",
      "\u001b[1;31mIndexError\u001b[0m                                Traceback (most recent call last)",
      "\u001b[1;32m<ipython-input-167-ad4593360eb3>\u001b[0m in \u001b[0;36m<module>\u001b[1;34m()\u001b[0m\n\u001b[0;32m      1\u001b[0m \u001b[0mfig\u001b[0m\u001b[1;33m,\u001b[0m \u001b[0max\u001b[0m \u001b[1;33m=\u001b[0m \u001b[0mplt\u001b[0m\u001b[1;33m.\u001b[0m\u001b[0msubplots\u001b[0m\u001b[1;33m(\u001b[0m\u001b[1;36m1\u001b[0m\u001b[1;33m,\u001b[0m \u001b[1;36m1\u001b[0m\u001b[1;33m)\u001b[0m\u001b[1;33m\u001b[0m\u001b[0m\n\u001b[1;32m----> 2\u001b[1;33m \u001b[0mtable\u001b[0m\u001b[1;33m(\u001b[0m\u001b[0max\u001b[0m\u001b[1;33m,\u001b[0m \u001b[0mnp\u001b[0m\u001b[1;33m.\u001b[0m\u001b[0mround\u001b[0m\u001b[1;33m(\u001b[0m\u001b[0mthe_stock_data\u001b[0m\u001b[1;33m.\u001b[0m\u001b[0mdescribe\u001b[0m\u001b[1;33m(\u001b[0m\u001b[1;33m)\u001b[0m\u001b[1;33m,\u001b[0m \u001b[1;36m2\u001b[0m\u001b[1;33m)\u001b[0m\u001b[1;33m,\u001b[0m\u001b[0mloc\u001b[0m\u001b[1;33m=\u001b[0m\u001b[1;34m'upper right'\u001b[0m\u001b[1;33m,\u001b[0m \u001b[0mcolWidths\u001b[0m\u001b[1;33m=\u001b[0m\u001b[1;33m[\u001b[0m\u001b[1;36m0.2\u001b[0m\u001b[1;33m,\u001b[0m \u001b[1;36m0.2\u001b[0m\u001b[1;33m,\u001b[0m \u001b[1;36m0.2\u001b[0m\u001b[1;33m]\u001b[0m\u001b[1;33m)\u001b[0m\u001b[1;33m\u001b[0m\u001b[0m\n\u001b[0m",
      "\u001b[1;32mC:\\Users\\Public\\Programming\\lib\\site-packages\\pandas\\plotting\\_tools.py\u001b[0m in \u001b[0;36mtable\u001b[1;34m(ax, data, rowLabels, colLabels, **kwargs)\u001b[0m\n\u001b[0;32m     62\u001b[0m     table = matplotlib.table.table(ax, cellText=cellText,\n\u001b[0;32m     63\u001b[0m                                    \u001b[0mrowLabels\u001b[0m\u001b[1;33m=\u001b[0m\u001b[0mrowLabels\u001b[0m\u001b[1;33m,\u001b[0m\u001b[1;33m\u001b[0m\u001b[0m\n\u001b[1;32m---> 64\u001b[1;33m                                    colLabels=colLabels, **kwargs)\n\u001b[0m\u001b[0;32m     65\u001b[0m     \u001b[1;32mreturn\u001b[0m \u001b[0mtable\u001b[0m\u001b[1;33m\u001b[0m\u001b[0m\n\u001b[0;32m     66\u001b[0m \u001b[1;33m\u001b[0m\u001b[0m\n",
      "\u001b[1;32mC:\\Users\\Public\\Programming\\lib\\site-packages\\matplotlib\\table.py\u001b[0m in \u001b[0;36mtable\u001b[1;34m(ax, cellText, cellColours, cellLoc, colWidths, rowLabels, rowColours, rowLoc, colLabels, colColours, colLoc, loc, bbox, edges, **kwargs)\u001b[0m\n\u001b[0;32m    641\u001b[0m         \u001b[1;32mfor\u001b[0m \u001b[0mcol\u001b[0m \u001b[1;32min\u001b[0m \u001b[0mxrange\u001b[0m\u001b[1;33m(\u001b[0m\u001b[0mcols\u001b[0m\u001b[1;33m)\u001b[0m\u001b[1;33m:\u001b[0m\u001b[1;33m\u001b[0m\u001b[0m\n\u001b[0;32m    642\u001b[0m             table.add_cell(row + offset, col,\n\u001b[1;32m--> 643\u001b[1;33m                            \u001b[0mwidth\u001b[0m\u001b[1;33m=\u001b[0m\u001b[0mcolWidths\u001b[0m\u001b[1;33m[\u001b[0m\u001b[0mcol\u001b[0m\u001b[1;33m]\u001b[0m\u001b[1;33m,\u001b[0m \u001b[0mheight\u001b[0m\u001b[1;33m=\u001b[0m\u001b[0mheight\u001b[0m\u001b[1;33m,\u001b[0m\u001b[1;33m\u001b[0m\u001b[0m\n\u001b[0m\u001b[0;32m    644\u001b[0m                            \u001b[0mtext\u001b[0m\u001b[1;33m=\u001b[0m\u001b[0mcellText\u001b[0m\u001b[1;33m[\u001b[0m\u001b[0mrow\u001b[0m\u001b[1;33m]\u001b[0m\u001b[1;33m[\u001b[0m\u001b[0mcol\u001b[0m\u001b[1;33m]\u001b[0m\u001b[1;33m,\u001b[0m\u001b[1;33m\u001b[0m\u001b[0m\n\u001b[0;32m    645\u001b[0m                            \u001b[0mfacecolor\u001b[0m\u001b[1;33m=\u001b[0m\u001b[0mcellColours\u001b[0m\u001b[1;33m[\u001b[0m\u001b[0mrow\u001b[0m\u001b[1;33m]\u001b[0m\u001b[1;33m[\u001b[0m\u001b[0mcol\u001b[0m\u001b[1;33m]\u001b[0m\u001b[1;33m,\u001b[0m\u001b[1;33m\u001b[0m\u001b[0m\n",
      "\u001b[1;31mIndexError\u001b[0m: list index out of range"
     ]
    }
   ],
   "source": [
    "fig, ax = plt.subplots(1, 1)\n",
    "table(ax, np.round(the_stock_data.describe(), 2),loc='upper right', colWidths=[0.2, 0.2, 0.2])"
   ]
  },
  {
   "cell_type": "code",
   "execution_count": null,
   "metadata": {
    "collapsed": true
   },
   "outputs": [],
   "source": []
  },
  {
   "cell_type": "code",
   "execution_count": null,
   "metadata": {
    "collapsed": true
   },
   "outputs": [],
   "source": []
  }
 ],
 "metadata": {
  "kernelspec": {
   "display_name": "Python 3",
   "language": "python",
   "name": "python3"
  },
  "language_info": {
   "codemirror_mode": {
    "name": "ipython",
    "version": 3
   },
   "file_extension": ".py",
   "mimetype": "text/x-python",
   "name": "python",
   "nbconvert_exporter": "python",
   "pygments_lexer": "ipython3",
   "version": "3.6.3"
  }
 },
 "nbformat": 4,
 "nbformat_minor": 2
}
