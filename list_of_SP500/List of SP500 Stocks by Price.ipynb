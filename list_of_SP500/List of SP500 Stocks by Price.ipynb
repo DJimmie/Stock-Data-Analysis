{
 "cells": [
  {
   "cell_type": "code",
   "execution_count": 2,
   "metadata": {
    "collapsed": true
   },
   "outputs": [],
   "source": [
    "import os\n",
    "import datetime as dt\n",
    "import pandas_datareader as web\n",
    "import csv\n",
    "import time\n",
    "import random\n"
   ]
  },
  {
   "cell_type": "code",
   "execution_count": 3,
   "metadata": {
    "collapsed": true
   },
   "outputs": [],
   "source": [
    "def get_list():\n",
    "    sp500_tickers=[]\n",
    "    Location_1=r'C:\\Users\\Crystal\\Desktop\\datasets\\sandp500\\SP500_tickers\\All_SP500.csv'\n",
    "    with open(Location_1,newline='') as csvfile:\n",
    "        dayreader=csv.reader(csvfile)\n",
    "        for row in dayreader:\n",
    "            #print(row)\n",
    "            sp500_tickers.append(row)\n",
    "    csvfile.close\n",
    "    return sp500_tickers"
   ]
  },
  {
   "cell_type": "code",
   "execution_count": 4,
   "metadata": {
    "collapsed": true
   },
   "outputs": [],
   "source": [
    "the_list=get_list()"
   ]
  },
  {
   "cell_type": "code",
   "execution_count": 6,
   "metadata": {},
   "outputs": [],
   "source": [
    "dat = web.DataReader('SLB', 'yahoo', dt.datetime.today(), dt.datetime.today())"
   ]
  },
  {
   "cell_type": "code",
   "execution_count": 7,
   "metadata": {},
   "outputs": [
    {
     "data": {
      "text/html": [
       "<div>\n",
       "<style>\n",
       "    .dataframe thead tr:only-child th {\n",
       "        text-align: right;\n",
       "    }\n",
       "\n",
       "    .dataframe thead th {\n",
       "        text-align: left;\n",
       "    }\n",
       "\n",
       "    .dataframe tbody tr th {\n",
       "        vertical-align: top;\n",
       "    }\n",
       "</style>\n",
       "<table border=\"1\" class=\"dataframe\">\n",
       "  <thead>\n",
       "    <tr style=\"text-align: right;\">\n",
       "      <th></th>\n",
       "      <th>Open</th>\n",
       "      <th>High</th>\n",
       "      <th>Low</th>\n",
       "      <th>Close</th>\n",
       "      <th>Adj Close</th>\n",
       "      <th>Volume</th>\n",
       "    </tr>\n",
       "    <tr>\n",
       "      <th>Date</th>\n",
       "      <th></th>\n",
       "      <th></th>\n",
       "      <th></th>\n",
       "      <th></th>\n",
       "      <th></th>\n",
       "      <th></th>\n",
       "    </tr>\n",
       "  </thead>\n",
       "  <tbody>\n",
       "    <tr>\n",
       "      <th>2018-10-05</th>\n",
       "      <td>62.75</td>\n",
       "      <td>63.360001</td>\n",
       "      <td>62.439999</td>\n",
       "      <td>63.0</td>\n",
       "      <td>63.0</td>\n",
       "      <td>7358246</td>\n",
       "    </tr>\n",
       "  </tbody>\n",
       "</table>\n",
       "</div>"
      ],
      "text/plain": [
       "             Open       High        Low  Close  Adj Close   Volume\n",
       "Date                                                              \n",
       "2018-10-05  62.75  63.360001  62.439999   63.0       63.0  7358246"
      ]
     },
     "execution_count": 7,
     "metadata": {},
     "output_type": "execute_result"
    }
   ],
   "source": [
    "dat"
   ]
  },
  {
   "cell_type": "code",
   "execution_count": 8,
   "metadata": {},
   "outputs": [
    {
     "data": {
      "text/plain": [
       "63.0"
      ]
     },
     "execution_count": 8,
     "metadata": {},
     "output_type": "execute_result"
    }
   ],
   "source": [
    "dat.Close.values[0]"
   ]
  },
  {
   "cell_type": "code",
   "execution_count": 9,
   "metadata": {},
   "outputs": [
    {
     "data": {
      "text/plain": [
       "array([ 63.])"
      ]
     },
     "execution_count": 9,
     "metadata": {},
     "output_type": "execute_result"
    }
   ],
   "source": [
    "dat['Close'].values"
   ]
  },
  {
   "cell_type": "code",
   "execution_count": null,
   "metadata": {
    "scrolled": false
   },
   "outputs": [
    {
     "name": "stdout",
     "output_type": "stream",
     "text": [
      "problem here\n",
      "problem here\n",
      "problem here\n",
      "AES = Date\n",
      "2018-10-05    14.66\n",
      "Name: Close, dtype: float64\n",
      "problem here\n",
      "problem here\n",
      "AIV = Date\n",
      "2018-10-05    43.52\n",
      "Name: Close, dtype: float64\n",
      "problem here\n",
      "problem here\n",
      "AMAT = Date\n",
      "2018-10-05    37.240002\n",
      "Name: Close, dtype: float64\n",
      "AMD = Date\n",
      "2018-10-05    27.35\n",
      "Name: Close, dtype: float64\n",
      "problem here\n",
      "problem here\n",
      "APA = Date\n",
      "2018-10-05    47.98\n",
      "Name: Close, dtype: float64\n",
      "ARNC = Date\n",
      "2018-10-05    21.84\n",
      "Name: Close, dtype: float64\n",
      "problem here\n",
      "problem here\n",
      "BAC = Date\n",
      "2018-10-05    30.23\n",
      "Name: Close, dtype: float64\n",
      "problem here\n",
      "problem here\n",
      "BEN = Date\n",
      "2018-10-05    30.530001\n",
      "Name: Close, dtype: float64\n",
      "problem here\n",
      "BLL = Date\n",
      "2018-10-05    45.93\n",
      "Name: Close, dtype: float64\n",
      "problem here\n",
      "BSX = Date\n",
      "2018-10-05    37.849998\n",
      "Name: Close, dtype: float64\n",
      "problem here\n",
      "problem here\n",
      "problem here\n",
      "problem here\n",
      "CA = Date\n",
      "2018-10-05    44.060001\n",
      "Name: Close, dtype: float64\n",
      "problem here\n",
      "problem here\n",
      "CFG = Date\n",
      "2018-10-05    38.779999\n",
      "Name: Close, dtype: float64\n",
      "problem here\n",
      "CHK = Date\n",
      "2018-10-05    4.48\n",
      "Name: Close, dtype: float64\n"
     ]
    }
   ],
   "source": [
    "startTime = time.time()\n",
    "\n",
    "for i in the_list:\n",
    "    try:\n",
    "        dat = web.DataReader(i[0], 'yahoo', dt.datetime.today(), dt.datetime.today())\n",
    "        if (dat.Close.values[0]<50):\n",
    "            print (i[0],'=',dat['Close'].values)\n",
    "        \n",
    "    except:\n",
    "        print ('problem here')\n",
    "        #time.sleep(2)\n",
    "        \n",
    "endTime = time.time()\n",
    "\n",
    "\n",
    "print('Duration: ', endTime-startTime)"
   ]
  },
  {
   "cell_type": "code",
   "execution_count": null,
   "metadata": {
    "collapsed": true
   },
   "outputs": [],
   "source": []
  }
 ],
 "metadata": {
  "kernelspec": {
   "display_name": "Python 3",
   "language": "python",
   "name": "python3"
  },
  "language_info": {
   "codemirror_mode": {
    "name": "ipython",
    "version": 3
   },
   "file_extension": ".py",
   "mimetype": "text/x-python",
   "name": "python",
   "nbconvert_exporter": "python",
   "pygments_lexer": "ipython3",
   "version": "3.6.3"
  }
 },
 "nbformat": 4,
 "nbformat_minor": 2
}
